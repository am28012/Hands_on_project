{
  "nbformat": 4,
  "nbformat_minor": 0,
  "metadata": {
    "colab": {
      "provenance": [],
      "authorship_tag": "ABX9TyNje0N6x/9W6LFCM6rtLdsT",
      "include_colab_link": true
    },
    "kernelspec": {
      "name": "python3",
      "display_name": "Python 3"
    },
    "language_info": {
      "name": "python"
    }
  },
  "cells": [
    {
      "cell_type": "markdown",
      "metadata": {
        "id": "view-in-github",
        "colab_type": "text"
      },
      "source": [
        "<a href=\"https://colab.research.google.com/github/am28012/Hands_on_project/blob/main/Fraud_Detection_Model.ipynb\" target=\"_parent\"><img src=\"https://colab.research.google.com/assets/colab-badge.svg\" alt=\"Open In Colab\"/></a>"
      ]
    },
    {
      "cell_type": "code",
      "execution_count": 1,
      "metadata": {
        "id": "q9B7Wx-lqyZU"
      },
      "outputs": [],
      "source": [
        "import pandas as pd\n",
        "import seaborn as sns\n",
        "import matplotlib.pyplot as plt\n",
        "import scipy.stats\n",
        "import statsmodels.api as sm\n",
        "from statsmodels.formula.api import ols\n",
        "from scipy.stats import pearsonr\n"
      ]
    },
    {
      "cell_type": "code",
      "metadata": {
        "colab": {
          "base_uri": "https://localhost:8080/",
          "height": 206
        },
        "id": "da4c95a0",
        "outputId": "61309638-ab4f-46b1-e167-d6835790f112"
      },
      "source": [
        "df = pd.read_csv('/content/Fraud.csv')\n",
        "df.head()"
      ],
      "execution_count": 2,
      "outputs": [
        {
          "output_type": "execute_result",
          "data": {
            "text/plain": [
              "   step      type    amount     nameOrig  oldbalanceOrg  newbalanceOrig  \\\n",
              "0     1   PAYMENT   9839.64  C1231006815       170136.0       160296.36   \n",
              "1     1   PAYMENT   1864.28  C1666544295        21249.0        19384.72   \n",
              "2     1  TRANSFER    181.00  C1305486145          181.0            0.00   \n",
              "3     1  CASH_OUT    181.00   C840083671          181.0            0.00   \n",
              "4     1   PAYMENT  11668.14  C2048537720        41554.0        29885.86   \n",
              "\n",
              "      nameDest  oldbalanceDest  newbalanceDest  isFraud  isFlaggedFraud  \n",
              "0  M1979787155             0.0             0.0      0.0             0.0  \n",
              "1  M2044282225             0.0             0.0      0.0             0.0  \n",
              "2   C553264065             0.0             0.0      1.0             0.0  \n",
              "3    C38997010         21182.0             0.0      1.0             0.0  \n",
              "4  M1230701703             0.0             0.0      0.0             0.0  "
            ],
            "text/html": [
              "\n",
              "  <div id=\"df-0e5de152-45cb-4e01-b520-87d7de125948\" class=\"colab-df-container\">\n",
              "    <div>\n",
              "<style scoped>\n",
              "    .dataframe tbody tr th:only-of-type {\n",
              "        vertical-align: middle;\n",
              "    }\n",
              "\n",
              "    .dataframe tbody tr th {\n",
              "        vertical-align: top;\n",
              "    }\n",
              "\n",
              "    .dataframe thead th {\n",
              "        text-align: right;\n",
              "    }\n",
              "</style>\n",
              "<table border=\"1\" class=\"dataframe\">\n",
              "  <thead>\n",
              "    <tr style=\"text-align: right;\">\n",
              "      <th></th>\n",
              "      <th>step</th>\n",
              "      <th>type</th>\n",
              "      <th>amount</th>\n",
              "      <th>nameOrig</th>\n",
              "      <th>oldbalanceOrg</th>\n",
              "      <th>newbalanceOrig</th>\n",
              "      <th>nameDest</th>\n",
              "      <th>oldbalanceDest</th>\n",
              "      <th>newbalanceDest</th>\n",
              "      <th>isFraud</th>\n",
              "      <th>isFlaggedFraud</th>\n",
              "    </tr>\n",
              "  </thead>\n",
              "  <tbody>\n",
              "    <tr>\n",
              "      <th>0</th>\n",
              "      <td>1</td>\n",
              "      <td>PAYMENT</td>\n",
              "      <td>9839.64</td>\n",
              "      <td>C1231006815</td>\n",
              "      <td>170136.0</td>\n",
              "      <td>160296.36</td>\n",
              "      <td>M1979787155</td>\n",
              "      <td>0.0</td>\n",
              "      <td>0.0</td>\n",
              "      <td>0.0</td>\n",
              "      <td>0.0</td>\n",
              "    </tr>\n",
              "    <tr>\n",
              "      <th>1</th>\n",
              "      <td>1</td>\n",
              "      <td>PAYMENT</td>\n",
              "      <td>1864.28</td>\n",
              "      <td>C1666544295</td>\n",
              "      <td>21249.0</td>\n",
              "      <td>19384.72</td>\n",
              "      <td>M2044282225</td>\n",
              "      <td>0.0</td>\n",
              "      <td>0.0</td>\n",
              "      <td>0.0</td>\n",
              "      <td>0.0</td>\n",
              "    </tr>\n",
              "    <tr>\n",
              "      <th>2</th>\n",
              "      <td>1</td>\n",
              "      <td>TRANSFER</td>\n",
              "      <td>181.00</td>\n",
              "      <td>C1305486145</td>\n",
              "      <td>181.0</td>\n",
              "      <td>0.00</td>\n",
              "      <td>C553264065</td>\n",
              "      <td>0.0</td>\n",
              "      <td>0.0</td>\n",
              "      <td>1.0</td>\n",
              "      <td>0.0</td>\n",
              "    </tr>\n",
              "    <tr>\n",
              "      <th>3</th>\n",
              "      <td>1</td>\n",
              "      <td>CASH_OUT</td>\n",
              "      <td>181.00</td>\n",
              "      <td>C840083671</td>\n",
              "      <td>181.0</td>\n",
              "      <td>0.00</td>\n",
              "      <td>C38997010</td>\n",
              "      <td>21182.0</td>\n",
              "      <td>0.0</td>\n",
              "      <td>1.0</td>\n",
              "      <td>0.0</td>\n",
              "    </tr>\n",
              "    <tr>\n",
              "      <th>4</th>\n",
              "      <td>1</td>\n",
              "      <td>PAYMENT</td>\n",
              "      <td>11668.14</td>\n",
              "      <td>C2048537720</td>\n",
              "      <td>41554.0</td>\n",
              "      <td>29885.86</td>\n",
              "      <td>M1230701703</td>\n",
              "      <td>0.0</td>\n",
              "      <td>0.0</td>\n",
              "      <td>0.0</td>\n",
              "      <td>0.0</td>\n",
              "    </tr>\n",
              "  </tbody>\n",
              "</table>\n",
              "</div>\n",
              "    <div class=\"colab-df-buttons\">\n",
              "\n",
              "  <div class=\"colab-df-container\">\n",
              "    <button class=\"colab-df-convert\" onclick=\"convertToInteractive('df-0e5de152-45cb-4e01-b520-87d7de125948')\"\n",
              "            title=\"Convert this dataframe to an interactive table.\"\n",
              "            style=\"display:none;\">\n",
              "\n",
              "  <svg xmlns=\"http://www.w3.org/2000/svg\" height=\"24px\" viewBox=\"0 -960 960 960\">\n",
              "    <path d=\"M120-120v-720h720v720H120Zm60-500h600v-160H180v160Zm220 220h160v-160H400v160Zm0 220h160v-160H400v160ZM180-400h160v-160H180v160Zm440 0h160v-160H620v160ZM180-180h160v-160H180v160Zm440 0h160v-160H620v160Z\"/>\n",
              "  </svg>\n",
              "    </button>\n",
              "\n",
              "  <style>\n",
              "    .colab-df-container {\n",
              "      display:flex;\n",
              "      gap: 12px;\n",
              "    }\n",
              "\n",
              "    .colab-df-convert {\n",
              "      background-color: #E8F0FE;\n",
              "      border: none;\n",
              "      border-radius: 50%;\n",
              "      cursor: pointer;\n",
              "      display: none;\n",
              "      fill: #1967D2;\n",
              "      height: 32px;\n",
              "      padding: 0 0 0 0;\n",
              "      width: 32px;\n",
              "    }\n",
              "\n",
              "    .colab-df-convert:hover {\n",
              "      background-color: #E2EBFA;\n",
              "      box-shadow: 0px 1px 2px rgba(60, 64, 67, 0.3), 0px 1px 3px 1px rgba(60, 64, 67, 0.15);\n",
              "      fill: #174EA6;\n",
              "    }\n",
              "\n",
              "    .colab-df-buttons div {\n",
              "      margin-bottom: 4px;\n",
              "    }\n",
              "\n",
              "    [theme=dark] .colab-df-convert {\n",
              "      background-color: #3B4455;\n",
              "      fill: #D2E3FC;\n",
              "    }\n",
              "\n",
              "    [theme=dark] .colab-df-convert:hover {\n",
              "      background-color: #434B5C;\n",
              "      box-shadow: 0px 1px 3px 1px rgba(0, 0, 0, 0.15);\n",
              "      filter: drop-shadow(0px 1px 2px rgba(0, 0, 0, 0.3));\n",
              "      fill: #FFFFFF;\n",
              "    }\n",
              "  </style>\n",
              "\n",
              "    <script>\n",
              "      const buttonEl =\n",
              "        document.querySelector('#df-0e5de152-45cb-4e01-b520-87d7de125948 button.colab-df-convert');\n",
              "      buttonEl.style.display =\n",
              "        google.colab.kernel.accessAllowed ? 'block' : 'none';\n",
              "\n",
              "      async function convertToInteractive(key) {\n",
              "        const element = document.querySelector('#df-0e5de152-45cb-4e01-b520-87d7de125948');\n",
              "        const dataTable =\n",
              "          await google.colab.kernel.invokeFunction('convertToInteractive',\n",
              "                                                    [key], {});\n",
              "        if (!dataTable) return;\n",
              "\n",
              "        const docLinkHtml = 'Like what you see? Visit the ' +\n",
              "          '<a target=\"_blank\" href=https://colab.research.google.com/notebooks/data_table.ipynb>data table notebook</a>'\n",
              "          + ' to learn more about interactive tables.';\n",
              "        element.innerHTML = '';\n",
              "        dataTable['output_type'] = 'display_data';\n",
              "        await google.colab.output.renderOutput(dataTable, element);\n",
              "        const docLink = document.createElement('div');\n",
              "        docLink.innerHTML = docLinkHtml;\n",
              "        element.appendChild(docLink);\n",
              "      }\n",
              "    </script>\n",
              "  </div>\n",
              "\n",
              "\n",
              "    <div id=\"df-5200ba4f-cdea-44dd-9cdd-84a0acfd27c8\">\n",
              "      <button class=\"colab-df-quickchart\" onclick=\"quickchart('df-5200ba4f-cdea-44dd-9cdd-84a0acfd27c8')\"\n",
              "                title=\"Suggest charts\"\n",
              "                style=\"display:none;\">\n",
              "\n",
              "<svg xmlns=\"http://www.w3.org/2000/svg\" height=\"24px\"viewBox=\"0 0 24 24\"\n",
              "     width=\"24px\">\n",
              "    <g>\n",
              "        <path d=\"M19 3H5c-1.1 0-2 .9-2 2v14c0 1.1.9 2 2 2h14c1.1 0 2-.9 2-2V5c0-1.1-.9-2-2-2zM9 17H7v-7h2v7zm4 0h-2V7h2v10zm4 0h-2v-4h2v4z\"/>\n",
              "    </g>\n",
              "</svg>\n",
              "      </button>\n",
              "\n",
              "<style>\n",
              "  .colab-df-quickchart {\n",
              "      --bg-color: #E8F0FE;\n",
              "      --fill-color: #1967D2;\n",
              "      --hover-bg-color: #E2EBFA;\n",
              "      --hover-fill-color: #174EA6;\n",
              "      --disabled-fill-color: #AAA;\n",
              "      --disabled-bg-color: #DDD;\n",
              "  }\n",
              "\n",
              "  [theme=dark] .colab-df-quickchart {\n",
              "      --bg-color: #3B4455;\n",
              "      --fill-color: #D2E3FC;\n",
              "      --hover-bg-color: #434B5C;\n",
              "      --hover-fill-color: #FFFFFF;\n",
              "      --disabled-bg-color: #3B4455;\n",
              "      --disabled-fill-color: #666;\n",
              "  }\n",
              "\n",
              "  .colab-df-quickchart {\n",
              "    background-color: var(--bg-color);\n",
              "    border: none;\n",
              "    border-radius: 50%;\n",
              "    cursor: pointer;\n",
              "    display: none;\n",
              "    fill: var(--fill-color);\n",
              "    height: 32px;\n",
              "    padding: 0;\n",
              "    width: 32px;\n",
              "  }\n",
              "\n",
              "  .colab-df-quickchart:hover {\n",
              "    background-color: var(--hover-bg-color);\n",
              "    box-shadow: 0 1px 2px rgba(60, 64, 67, 0.3), 0 1px 3px 1px rgba(60, 64, 67, 0.15);\n",
              "    fill: var(--button-hover-fill-color);\n",
              "  }\n",
              "\n",
              "  .colab-df-quickchart-complete:disabled,\n",
              "  .colab-df-quickchart-complete:disabled:hover {\n",
              "    background-color: var(--disabled-bg-color);\n",
              "    fill: var(--disabled-fill-color);\n",
              "    box-shadow: none;\n",
              "  }\n",
              "\n",
              "  .colab-df-spinner {\n",
              "    border: 2px solid var(--fill-color);\n",
              "    border-color: transparent;\n",
              "    border-bottom-color: var(--fill-color);\n",
              "    animation:\n",
              "      spin 1s steps(1) infinite;\n",
              "  }\n",
              "\n",
              "  @keyframes spin {\n",
              "    0% {\n",
              "      border-color: transparent;\n",
              "      border-bottom-color: var(--fill-color);\n",
              "      border-left-color: var(--fill-color);\n",
              "    }\n",
              "    20% {\n",
              "      border-color: transparent;\n",
              "      border-left-color: var(--fill-color);\n",
              "      border-top-color: var(--fill-color);\n",
              "    }\n",
              "    30% {\n",
              "      border-color: transparent;\n",
              "      border-left-color: var(--fill-color);\n",
              "      border-top-color: var(--fill-color);\n",
              "      border-right-color: var(--fill-color);\n",
              "    }\n",
              "    40% {\n",
              "      border-color: transparent;\n",
              "      border-right-color: var(--fill-color);\n",
              "      border-top-color: var(--fill-color);\n",
              "    }\n",
              "    60% {\n",
              "      border-color: transparent;\n",
              "      border-right-color: var(--fill-color);\n",
              "    }\n",
              "    80% {\n",
              "      border-color: transparent;\n",
              "      border-right-color: var(--fill-color);\n",
              "      border-bottom-color: var(--fill-color);\n",
              "    }\n",
              "    90% {\n",
              "      border-color: transparent;\n",
              "      border-bottom-color: var(--fill-color);\n",
              "    }\n",
              "  }\n",
              "</style>\n",
              "\n",
              "      <script>\n",
              "        async function quickchart(key) {\n",
              "          const quickchartButtonEl =\n",
              "            document.querySelector('#' + key + ' button');\n",
              "          quickchartButtonEl.disabled = true;  // To prevent multiple clicks.\n",
              "          quickchartButtonEl.classList.add('colab-df-spinner');\n",
              "          try {\n",
              "            const charts = await google.colab.kernel.invokeFunction(\n",
              "                'suggestCharts', [key], {});\n",
              "          } catch (error) {\n",
              "            console.error('Error during call to suggestCharts:', error);\n",
              "          }\n",
              "          quickchartButtonEl.classList.remove('colab-df-spinner');\n",
              "          quickchartButtonEl.classList.add('colab-df-quickchart-complete');\n",
              "        }\n",
              "        (() => {\n",
              "          let quickchartButtonEl =\n",
              "            document.querySelector('#df-5200ba4f-cdea-44dd-9cdd-84a0acfd27c8 button');\n",
              "          quickchartButtonEl.style.display =\n",
              "            google.colab.kernel.accessAllowed ? 'block' : 'none';\n",
              "        })();\n",
              "      </script>\n",
              "    </div>\n",
              "\n",
              "    </div>\n",
              "  </div>\n"
            ],
            "application/vnd.google.colaboratory.intrinsic+json": {
              "type": "dataframe",
              "variable_name": "df"
            }
          },
          "metadata": {},
          "execution_count": 2
        }
      ]
    },
    {
      "cell_type": "code",
      "metadata": {
        "colab": {
          "base_uri": "https://localhost:8080/"
        },
        "id": "70206eaf",
        "outputId": "27c54f21-6e50-46dc-8096-79dd4ae2a8da"
      },
      "source": [
        "print(df.isnull().sum())\n",
        "print(df.info())"
      ],
      "execution_count": 4,
      "outputs": [
        {
          "output_type": "stream",
          "name": "stdout",
          "text": [
            "step              0\n",
            "type              0\n",
            "amount            0\n",
            "nameOrig          0\n",
            "oldbalanceOrg     0\n",
            "newbalanceOrig    0\n",
            "nameDest          0\n",
            "oldbalanceDest    1\n",
            "newbalanceDest    1\n",
            "isFraud           1\n",
            "isFlaggedFraud    1\n",
            "dtype: int64\n",
            "<class 'pandas.core.frame.DataFrame'>\n",
            "RangeIndex: 1994674 entries, 0 to 1994673\n",
            "Data columns (total 11 columns):\n",
            " #   Column          Dtype  \n",
            "---  ------          -----  \n",
            " 0   step            int64  \n",
            " 1   type            object \n",
            " 2   amount          float64\n",
            " 3   nameOrig        object \n",
            " 4   oldbalanceOrg   float64\n",
            " 5   newbalanceOrig  float64\n",
            " 6   nameDest        object \n",
            " 7   oldbalanceDest  float64\n",
            " 8   newbalanceDest  float64\n",
            " 9   isFraud         float64\n",
            " 10  isFlaggedFraud  float64\n",
            "dtypes: float64(7), int64(1), object(3)\n",
            "memory usage: 167.4+ MB\n",
            "None\n"
          ]
        }
      ]
    },
    {
      "cell_type": "code",
      "metadata": {
        "colab": {
          "base_uri": "https://localhost:8080/"
        },
        "id": "f754ae08",
        "outputId": "f71e62be-e401-4a63-ce39-afeca86039e3"
      },
      "source": [
        "df.dropna(inplace=True)\n",
        "print(df.isnull().sum())"
      ],
      "execution_count": 5,
      "outputs": [
        {
          "output_type": "stream",
          "name": "stdout",
          "text": [
            "step              0\n",
            "type              0\n",
            "amount            0\n",
            "nameOrig          0\n",
            "oldbalanceOrg     0\n",
            "newbalanceOrig    0\n",
            "nameDest          0\n",
            "oldbalanceDest    0\n",
            "newbalanceDest    0\n",
            "isFraud           0\n",
            "isFlaggedFraud    0\n",
            "dtype: int64\n"
          ]
        }
      ]
    },
    {
      "cell_type": "code",
      "metadata": {
        "colab": {
          "base_uri": "https://localhost:8080/",
          "height": 564
        },
        "id": "21f0159d",
        "outputId": "bf25212e-ccd5-4be1-d122-26980a01ebaf"
      },
      "source": [
        "plt.figure(figsize=(8, 6))\n",
        "sns.countplot(x='isFraud', data=df)\n",
        "plt.title('Distribution of Fraudulent vs. Non-Fraudulent Transactions')\n",
        "plt.xticks([0, 1], ['Non-Fraudulent', 'Fraudulent'])\n",
        "plt.xlabel('Transaction Type')\n",
        "plt.ylabel('Count')\n",
        "plt.show()"
      ],
      "execution_count": 6,
      "outputs": [
        {
          "output_type": "display_data",
          "data": {
            "text/plain": [
              "<Figure size 800x600 with 1 Axes>"
            ],
            "image/png": "[encoded data removed]"
          },
          "metadata": {}
        }
      ]
    },
    {
      "cell_type": "code",
      "metadata": {
        "colab": {
          "base_uri": "https://localhost:8080/",
          "height": 564
        },
        "id": "70bf4cb8",
        "outputId": "3b330348-48ed-4555-90fa-4632f5057f67"
      },
      "source": [
        "plt.figure(figsize=(10, 6))\n",
        "sns.countplot(x='type', hue='isFraud', data=df)\n",
        "plt.title('Fraudulent vs. Non-Fraudulent Transactions by Type')\n",
        "plt.xlabel('Transaction Type')\n",
        "plt.ylabel('Count')\n",
        "plt.legend(title='isFraud', labels=['Non-Fraudulent', 'Fraudulent'])\n",
        "plt.show()"
      ],
      "execution_count": 7,
      "outputs": [
        {
          "output_type": "display_data",
          "data": {
            "text/plain": [
              "<Figure size 1000x600 with 1 Axes>"
            ],
            "image/png": "[encoded data removed]"
          },
          "metadata": {}
        }
      ]
    },
    {
      "cell_type": "code",
      "metadata": {
        "colab": {
          "base_uri": "https://localhost:8080/"
        },
        "id": "f1f60773",
        "outputId": "c519ae13-d5d7-4961-eb1b-f17f79cbc1c5"
      },
      "source": [
        "contingency_table = pd.crosstab(df['type'], df['isFraud'])\n",
        "print(contingency_table)"
      ],
      "execution_count": 8,
      "outputs": [
        {
          "output_type": "stream",
          "name": "stdout",
          "text": [
            "isFraud      0.0   1.0\n",
            "type                  \n",
            "CASH_IN   438825     0\n",
            "CASH_OUT  709182  1024\n",
            "DEBIT      13230     0\n",
            "PAYMENT   667309     0\n",
            "TRANSFER  164093  1010\n"
          ]
        }
      ]
    },
    {
      "cell_type": "code",
      "metadata": {
        "colab": {
          "base_uri": "https://localhost:8080/",
          "height": 564
        },
        "id": "17e48f6e",
        "outputId": "701fe347-0dfb-451f-ffa4-88956d8d2c3f"
      },
      "source": [
        "plt.figure(figsize=(12, 6))\n",
        "sns.boxplot(x='isFraud', y='amount', data=df)\n",
        "plt.title('Distribution of Transaction Amount for Fraudulent vs. Non-Fraudulent Transactions')\n",
        "plt.xticks([0, 1], ['Non-Fraudulent', 'Fraudulent'])\n",
        "plt.xlabel('Transaction Type')\n",
        "plt.ylabel('Transaction Amount')\n",
        "plt.show()"
      ],
      "execution_count": 10,
      "outputs": [
        {
          "output_type": "display_data",
          "data": {
            "text/plain": [
              "<Figure size 1200x600 with 1 Axes>"
            ],
            "image/png": "[encoded data removed]"
          },
          "metadata": {}
        }
      ]
    },
    {
      "cell_type": "code",
      "metadata": {
        "id": "da839a93"
      },
      "source": [
        "df['errorBalanceOrig'] = df['newbalanceOrig'] + df['amount'] - df['oldbalanceOrg']"
      ],
      "execution_count": 11,
      "outputs": []
    },
    {
      "cell_type": "code",
      "metadata": {
        "id": "0c205e9e"
      },
      "source": [
        "df['errorBalanceDest'] = df['oldbalanceDest'] + df['amount'] - df['newbalanceDest']"
      ],
      "execution_count": 12,
      "outputs": []
    },
    {
      "cell_type": "code",
      "metadata": {
        "colab": {
          "base_uri": "https://localhost:8080/",
          "height": 415
        },
        "id": "9fa94923",
        "outputId": "f11016b6-d6df-45ad-d744-6c3e56deaa63"
      },
      "source": [
        "# We will one-hot encode the 'type' column to convert it to a numerical format.\n",
        "# We will also drop the nameOrig, nameDest, and isFlaggedFraud columns.\n",
        "X = df.drop(['isFraud', 'nameOrig', 'nameDest', 'isFlaggedFraud'], axis=1)\n",
        "y = df['isFraud']\n",
        "\n",
        "# One-hot encode the 'type' column\n",
        "X = pd.get_dummies(X, columns=['type'], drop_first=True)\n",
        "\n",
        "print(\"Preprocessed features (X) head:\")\n",
        "display(X.head())\n",
        "print(\"\\nTarget variable (y) head:\")\n",
        "print(y.head())\n",
        "\n",
        "print(\"\\nShape of X:\", X.shape)\n",
        "print(\"Shape of y:\", y.shape)"
      ],
      "execution_count": 13,
      "outputs": [
        {
          "output_type": "stream",
          "name": "stdout",
          "text": [
            "Preprocessed features (X) head:\n"
          ]
        },
        {
          "output_type": "display_data",
          "data": {
            "text/plain": [
              "   step    amount  oldbalanceOrg  newbalanceOrig  oldbalanceDest  \\\n",
              "0     1   9839.64       170136.0       160296.36             0.0   \n",
              "1     1   1864.28        21249.0        19384.72             0.0   \n",
              "2     1    181.00          181.0            0.00             0.0   \n",
              "3     1    181.00          181.0            0.00         21182.0   \n",
              "4     1  11668.14        41554.0        29885.86             0.0   \n",
              "\n",
              "   newbalanceDest  errorBalanceOrig  errorBalanceDest  type_CASH_OUT  \\\n",
              "0             0.0               0.0           9839.64          False   \n",
              "1             0.0               0.0           1864.28          False   \n",
              "2             0.0               0.0            181.00          False   \n",
              "3             0.0               0.0          21363.00           True   \n",
              "4             0.0               0.0          11668.14          False   \n",
              "\n",
              "   type_DEBIT  type_PAYMENT  type_TRANSFER  \n",
              "0       False          True          False  \n",
              "1       False          True          False  \n",
              "2       False         False           True  \n",
              "3       False         False          False  \n",
              "4       False          True          False  "
            ],
            "text/html": [
              "\n",
              "  <div id=\"df-4ebb299f-ed3a-4025-ac31-fcad7d698099\" class=\"colab-df-container\">\n",
              "    <div>\n",
              "<style scoped>\n",
              "    .dataframe tbody tr th:only-of-type {\n",
              "        vertical-align: middle;\n",
              "    }\n",
              "\n",
              "    .dataframe tbody tr th {\n",
              "        vertical-align: top;\n",
              "    }\n",
              "\n",
              "    .dataframe thead th {\n",
              "        text-align: right;\n",
              "    }\n",
              "</style>\n",
              "<table border=\"1\" class=\"dataframe\">\n",
              "  <thead>\n",
              "    <tr style=\"text-align: right;\">\n",
              "      <th></th>\n",
              "      <th>step</th>\n",
              "      <th>amount</th>\n",
              "      <th>oldbalanceOrg</th>\n",
              "      <th>newbalanceOrig</th>\n",
              "      <th>oldbalanceDest</th>\n",
              "      <th>newbalanceDest</th>\n",
              "      <th>errorBalanceOrig</th>\n",
              "      <th>errorBalanceDest</th>\n",
              "      <th>type_CASH_OUT</th>\n",
              "      <th>type_DEBIT</th>\n",
              "      <th>type_PAYMENT</th>\n",
              "      <th>type_TRANSFER</th>\n",
              "    </tr>\n",
              "  </thead>\n",
              "  <tbody>\n",
              "    <tr>\n",
              "      <th>0</th>\n",
              "      <td>1</td>\n",
              "      <td>9839.64</td>\n",
              "      <td>170136.0</td>\n",
              "      <td>160296.36</td>\n",
              "      <td>0.0</td>\n",
              "      <td>0.0</td>\n",
              "      <td>0.0</td>\n",
              "      <td>9839.64</td>\n",
              "      <td>False</td>\n",
              "      <td>False</td>\n",
              "      <td>True</td>\n",
              "      <td>False</td>\n",
              "    </tr>\n",
              "    <tr>\n",
              "      <th>1</th>\n",
              "      <td>1</td>\n",
              "      <td>1864.28</td>\n",
              "      <td>21249.0</td>\n",
              "      <td>19384.72</td>\n",
              "      <td>0.0</td>\n",
              "      <td>0.0</td>\n",
              "      <td>0.0</td>\n",
              "      <td>1864.28</td>\n",
              "      <td>False</td>\n",
              "      <td>False</td>\n",
              "      <td>True</td>\n",
              "      <td>False</td>\n",
              "    </tr>\n",
              "    <tr>\n",
              "      <th>2</th>\n",
              "      <td>1</td>\n",
              "      <td>181.00</td>\n",
              "      <td>181.0</td>\n",
              "      <td>0.00</td>\n",
              "      <td>0.0</td>\n",
              "      <td>0.0</td>\n",
              "      <td>0.0</td>\n",
              "      <td>181.00</td>\n",
              "      <td>False</td>\n",
              "      <td>False</td>\n",
              "      <td>False</td>\n",
              "      <td>True</td>\n",
              "    </tr>\n",
              "    <tr>\n",
              "      <th>3</th>\n",
              "      <td>1</td>\n",
              "      <td>181.00</td>\n",
              "      <td>181.0</td>\n",
              "      <td>0.00</td>\n",
              "      <td>21182.0</td>\n",
              "      <td>0.0</td>\n",
              "      <td>0.0</td>\n",
              "      <td>21363.00</td>\n",
              "      <td>True</td>\n",
              "      <td>False</td>\n",
              "      <td>False</td>\n",
              "      <td>False</td>\n",
              "    </tr>\n",
              "    <tr>\n",
              "      <th>4</th>\n",
              "      <td>1</td>\n",
              "      <td>11668.14</td>\n",
              "      <td>41554.0</td>\n",
              "      <td>29885.86</td>\n",
              "      <td>0.0</td>\n",
              "      <td>0.0</td>\n",
              "      <td>0.0</td>\n",
              "      <td>11668.14</td>\n",
              "      <td>False</td>\n",
              "      <td>False</td>\n",
              "      <td>True</td>\n",
              "      <td>False</td>\n",
              "    </tr>\n",
              "  </tbody>\n",
              "</table>\n",
              "</div>\n",
              "    <div class=\"colab-df-buttons\">\n",
              "\n",
              "  <div class=\"colab-df-container\">\n",
              "    <button class=\"colab-df-convert\" onclick=\"convertToInteractive('df-4ebb299f-ed3a-4025-ac31-fcad7d698099')\"\n",
              "            title=\"Convert this dataframe to an interactive table.\"\n",
              "            style=\"display:none;\">\n",
              "\n",
              "  <svg xmlns=\"http://www.w3.org/2000/svg\" height=\"24px\" viewBox=\"0 -960 960 960\">\n",
              "    <path d=\"M120-120v-720h720v720H120Zm60-500h600v-160H180v160Zm220 220h160v-160H400v160Zm0 220h160v-160H400v160ZM180-400h160v-160H180v160Zm440 0h160v-160H620v160ZM180-180h160v-160H180v160Zm440 0h160v-160H620v160Z\"/>\n",
              "  </svg>\n",
              "    </button>\n",
              "\n",
              "  <style>\n",
              "    .colab-df-container {\n",
              "      display:flex;\n",
              "      gap: 12px;\n",
              "    }\n",
              "\n",
              "    .colab-df-convert {\n",
              "      background-color: #E8F0FE;\n",
              "      border: none;\n",
              "      border-radius: 50%;\n",
              "      cursor: pointer;\n",
              "      display: none;\n",
              "      fill: #1967D2;\n",
              "      height: 32px;\n",
              "      padding: 0 0 0 0;\n",
              "      width: 32px;\n",
              "    }\n",
              "\n",
              "    .colab-df-convert:hover {\n",
              "      background-color: #E2EBFA;\n",
              "      box-shadow: 0px 1px 2px rgba(60, 64, 67, 0.3), 0px 1px 3px 1px rgba(60, 64, 67, 0.15);\n",
              "      fill: #174EA6;\n",
              "    }\n",
              "\n",
              "    .colab-df-buttons div {\n",
              "      margin-bottom: 4px;\n",
              "    }\n",
              "\n",
              "    [theme=dark] .colab-df-convert {\n",
              "      background-color: #3B4455;\n",
              "      fill: #D2E3FC;\n",
              "    }\n",
              "\n",
              "    [theme=dark] .colab-df-convert:hover {\n",
              "      background-color: #434B5C;\n",
              "      box-shadow: 0px 1px 3px 1px rgba(0, 0, 0, 0.15);\n",
              "      filter: drop-shadow(0px 1px 2px rgba(0, 0, 0, 0.3));\n",
              "      fill: #FFFFFF;\n",
              "    }\n",
              "  </style>\n",
              "\n",
              "    <script>\n",
              "      const buttonEl =\n",
              "        document.querySelector('#df-4ebb299f-ed3a-4025-ac31-fcad7d698099 button.colab-df-convert');\n",
              "      buttonEl.style.display =\n",
              "        google.colab.kernel.accessAllowed ? 'block' : 'none';\n",
              "\n",
              "      async function convertToInteractive(key) {\n",
              "        const element = document.querySelector('#df-4ebb299f-ed3a-4025-ac31-fcad7d698099');\n",
              "        const dataTable =\n",
              "          await google.colab.kernel.invokeFunction('convertToInteractive',\n",
              "                                                    [key], {});\n",
              "        if (!dataTable) return;\n",
              "\n",
              "        const docLinkHtml = 'Like what you see? Visit the ' +\n",
              "          '<a target=\"_blank\" href=https://colab.research.google.com/notebooks/data_table.ipynb>data table notebook</a>'\n",
              "          + ' to learn more about interactive tables.';\n",
              "        element.innerHTML = '';\n",
              "        dataTable['output_type'] = 'display_data';\n",
              "        await google.colab.output.renderOutput(dataTable, element);\n",
              "        const docLink = document.createElement('div');\n",
              "        docLink.innerHTML = docLinkHtml;\n",
              "        element.appendChild(docLink);\n",
              "      }\n",
              "    </script>\n",
              "  </div>\n",
              "\n",
              "\n",
              "    <div id=\"df-fb6957e3-78de-40bd-9ab2-d8a9c11a34dc\">\n",
              "      <button class=\"colab-df-quickchart\" onclick=\"quickchart('df-fb6957e3-78de-40bd-9ab2-d8a9c11a34dc')\"\n",
              "                title=\"Suggest charts\"\n",
              "                style=\"display:none;\">\n",
              "\n",
              "<svg xmlns=\"http://www.w3.org/2000/svg\" height=\"24px\"viewBox=\"0 0 24 24\"\n",
              "     width=\"24px\">\n",
              "    <g>\n",
              "        <path d=\"M19 3H5c-1.1 0-2 .9-2 2v14c0 1.1.9 2 2 2h14c1.1 0 2-.9 2-2V5c0-1.1-.9-2-2-2zM9 17H7v-7h2v7zm4 0h-2V7h2v10zm4 0h-2v-4h2v4z\"/>\n",
              "    </g>\n",
              "</svg>\n",
              "      </button>\n",
              "\n",
              "<style>\n",
              "  .colab-df-quickchart {\n",
              "      --bg-color: #E8F0FE;\n",
              "      --fill-color: #1967D2;\n",
              "      --hover-bg-color: #E2EBFA;\n",
              "      --hover-fill-color: #174EA6;\n",
              "      --disabled-fill-color: #AAA;\n",
              "      --disabled-bg-color: #DDD;\n",
              "  }\n",
              "\n",
              "  [theme=dark] .colab-df-quickchart {\n",
              "      --bg-color: #3B4455;\n",
              "      --fill-color: #D2E3FC;\n",
              "      --hover-bg-color: #434B5C;\n",
              "      --hover-fill-color: #FFFFFF;\n",
              "      --disabled-bg-color: #3B4455;\n",
              "      --disabled-fill-color: #666;\n",
              "  }\n",
              "\n",
              "  .colab-df-quickchart {\n",
              "    background-color: var(--bg-color);\n",
              "    border: none;\n",
              "    border-radius: 50%;\n",
              "    cursor: pointer;\n",
              "    display: none;\n",
              "    fill: var(--fill-color);\n",
              "    height: 32px;\n",
              "    padding: 0;\n",
              "    width: 32px;\n",
              "  }\n",
              "\n",
              "  .colab-df-quickchart:hover {\n",
              "    background-color: var(--hover-bg-color);\n",
              "    box-shadow: 0 1px 2px rgba(60, 64, 67, 0.3), 0 1px 3px 1px rgba(60, 64, 67, 0.15);\n",
              "    fill: var(--button-hover-fill-color);\n",
              "  }\n",
              "\n",
              "  .colab-df-quickchart-complete:disabled,\n",
              "  .colab-df-quickchart-complete:disabled:hover {\n",
              "    background-color: var(--disabled-bg-color);\n",
              "    fill: var(--disabled-fill-color);\n",
              "    box-shadow: none;\n",
              "  }\n",
              "\n",
              "  .colab-df-spinner {\n",
              "    border: 2px solid var(--fill-color);\n",
              "    border-color: transparent;\n",
              "    border-bottom-color: var(--fill-color);\n",
              "    animation:\n",
              "      spin 1s steps(1) infinite;\n",
              "  }\n",
              "\n",
              "  @keyframes spin {\n",
              "    0% {\n",
              "      border-color: transparent;\n",
              "      border-bottom-color: var(--fill-color);\n",
              "      border-left-color: var(--fill-color);\n",
              "    }\n",
              "    20% {\n",
              "      border-color: transparent;\n",
              "      border-left-color: var(--fill-color);\n",
              "      border-top-color: var(--fill-color);\n",
              "    }\n",
              "    30% {\n",
              "      border-color: transparent;\n",
              "      border-left-color: var(--fill-color);\n",
              "      border-top-color: var(--fill-color);\n",
              "      border-right-color: var(--fill-color);\n",
              "    }\n",
              "    40% {\n",
              "      border-color: transparent;\n",
              "      border-right-color: var(--fill-color);\n",
              "      border-top-color: var(--fill-color);\n",
              "    }\n",
              "    60% {\n",
              "      border-color: transparent;\n",
              "      border-right-color: var(--fill-color);\n",
              "    }\n",
              "    80% {\n",
              "      border-color: transparent;\n",
              "      border-right-color: var(--fill-color);\n",
              "      border-bottom-color: var(--fill-color);\n",
              "    }\n",
              "    90% {\n",
              "      border-color: transparent;\n",
              "      border-bottom-color: var(--fill-color);\n",
              "    }\n",
              "  }\n",
              "</style>\n",
              "\n",
              "      <script>\n",
              "        async function quickchart(key) {\n",
              "          const quickchartButtonEl =\n",
              "            document.querySelector('#' + key + ' button');\n",
              "          quickchartButtonEl.disabled = true;  // To prevent multiple clicks.\n",
              "          quickchartButtonEl.classList.add('colab-df-spinner');\n",
              "          try {\n",
              "            const charts = await google.colab.kernel.invokeFunction(\n",
              "                'suggestCharts', [key], {});\n",
              "          } catch (error) {\n",
              "            console.error('Error during call to suggestCharts:', error);\n",
              "          }\n",
              "          quickchartButtonEl.classList.remove('colab-df-spinner');\n",
              "          quickchartButtonEl.classList.add('colab-df-quickchart-complete');\n",
              "        }\n",
              "        (() => {\n",
              "          let quickchartButtonEl =\n",
              "            document.querySelector('#df-fb6957e3-78de-40bd-9ab2-d8a9c11a34dc button');\n",
              "          quickchartButtonEl.style.display =\n",
              "            google.colab.kernel.accessAllowed ? 'block' : 'none';\n",
              "        })();\n",
              "      </script>\n",
              "    </div>\n",
              "\n",
              "    </div>\n",
              "  </div>\n"
            ],
            "application/vnd.google.colaboratory.intrinsic+json": {
              "type": "dataframe",
              "summary": "{\n  \"name\": \"print(\\\"Shape of y:\\\", y\",\n  \"rows\": 5,\n  \"fields\": [\n    {\n      \"column\": \"step\",\n      \"properties\": {\n        \"dtype\": \"number\",\n        \"std\": 0,\n        \"min\": 1,\n        \"max\": 1,\n        \"num_unique_values\": 1,\n        \"samples\": [\n          1\n        ],\n        \"semantic_type\": \"\",\n        \"description\": \"\"\n      }\n    },\n    {\n      \"column\": \"amount\",\n      \"properties\": {\n        \"dtype\": \"number\",\n        \"std\": 5564.259777609237,\n        \"min\": 181.0,\n        \"max\": 11668.14,\n        \"num_unique_values\": 4,\n        \"samples\": [\n          1864.28\n        ],\n        \"semantic_type\": \"\",\n        \"description\": \"\"\n      }\n    },\n    {\n      \"column\": \"oldbalanceOrg\",\n      \"properties\": {\n        \"dtype\": \"number\",\n        \"std\": 71131.40588867902,\n        \"min\": 181.0,\n        \"max\": 170136.0,\n        \"num_unique_values\": 4,\n        \"samples\": [\n          21249.0\n        ],\n        \"semantic_type\": \"\",\n        \"description\": \"\"\n      }\n    },\n    {\n      \"column\": \"newbalanceOrig\",\n      \"properties\": {\n        \"dtype\": \"number\",\n        \"std\": 67416.97590087172,\n        \"min\": 0.0,\n        \"max\": 160296.36,\n        \"num_unique_values\": 4,\n        \"samples\": [\n          19384.72\n        ],\n        \"semantic_type\": \"\",\n        \"description\": \"\"\n      }\n    },\n    {\n      \"column\": \"oldbalanceDest\",\n      \"properties\": {\n        \"dtype\": \"number\",\n        \"std\": 9472.878379880109,\n        \"min\": 0.0,\n        \"max\": 21182.0,\n        \"num_unique_values\": 2,\n        \"samples\": [\n          21182.0\n        ],\n        \"semantic_type\": \"\",\n        \"description\": \"\"\n      }\n    },\n    {\n      \"column\": \"newbalanceDest\",\n      \"properties\": {\n        \"dtype\": \"number\",\n        \"std\": 0.0,\n        \"min\": 0.0,\n        \"max\": 0.0,\n        \"num_unique_values\": 1,\n        \"samples\": [\n          0.0\n        ],\n        \"semantic_type\": \"\",\n        \"description\": \"\"\n      }\n    },\n    {\n      \"column\": \"errorBalanceOrig\",\n      \"properties\": {\n        \"dtype\": \"number\",\n        \"std\": 0.0,\n        \"min\": 0.0,\n        \"max\": 0.0,\n        \"num_unique_values\": 1,\n        \"samples\": [\n          0.0\n        ],\n        \"semantic_type\": \"\",\n        \"description\": \"\"\n      }\n    },\n    {\n      \"column\": \"errorBalanceDest\",\n      \"properties\": {\n        \"dtype\": \"number\",\n        \"std\": 8505.286402039617,\n        \"min\": 181.0,\n        \"max\": 21363.0,\n        \"num_unique_values\": 5,\n        \"samples\": [\n          1864.28\n        ],\n        \"semantic_type\": \"\",\n        \"description\": \"\"\n      }\n    },\n    {\n      \"column\": \"type_CASH_OUT\",\n      \"properties\": {\n        \"dtype\": \"boolean\",\n        \"num_unique_values\": 2,\n        \"samples\": [\n          true\n        ],\n        \"semantic_type\": \"\",\n        \"description\": \"\"\n      }\n    },\n    {\n      \"column\": \"type_DEBIT\",\n      \"properties\": {\n        \"dtype\": \"boolean\",\n        \"num_unique_values\": 1,\n        \"samples\": [\n          false\n        ],\n        \"semantic_type\": \"\",\n        \"description\": \"\"\n      }\n    },\n    {\n      \"column\": \"type_PAYMENT\",\n      \"properties\": {\n        \"dtype\": \"boolean\",\n        \"num_unique_values\": 2,\n        \"samples\": [\n          false\n        ],\n        \"semantic_type\": \"\",\n        \"description\": \"\"\n      }\n    },\n    {\n      \"column\": \"type_TRANSFER\",\n      \"properties\": {\n        \"dtype\": \"boolean\",\n        \"num_unique_values\": 2,\n        \"samples\": [\n          true\n        ],\n        \"semantic_type\": \"\",\n        \"description\": \"\"\n      }\n    }\n  ]\n}"
            }
          },
          "metadata": {}
        },
        {
          "output_type": "stream",
          "name": "stdout",
          "text": [
            "\n",
            "Target variable (y) head:\n",
            "0    0.0\n",
            "1    0.0\n",
            "2    1.0\n",
            "3    1.0\n",
            "4    0.0\n",
            "Name: isFraud, dtype: float64\n",
            "\n",
            "Shape of X: (1994673, 12)\n",
            "Shape of y: (1994673,)\n"
          ]
        }
      ]
    },
    {
      "cell_type": "code",
      "metadata": {
        "colab": {
          "base_uri": "https://localhost:8080/"
        },
        "id": "254e5344",
        "outputId": "603d2107-13df-4b76-fe82-e66fdfb16eac"
      },
      "source": [
        "from sklearn.model_selection import train_test_split\n",
        "\n",
        "X_train, X_test, y_train, y_test = train_test_split(X, y, test_size=0.2, random_state=42, stratify=y)\n",
        "\n",
        "print(\"Shape of X_train:\", X_train.shape)\n",
        "print(\"Shape of X_test:\", X_test.shape)\n",
        "print(\"Shape of y_train:\", y_train.shape)\n",
        "print(\"Shape of y_test:\", y_test.shape)"
      ],
      "execution_count": 14,
      "outputs": [
        {
          "output_type": "stream",
          "name": "stdout",
          "text": [
            "Shape of X_train: (1595738, 12)\n",
            "Shape of X_test: (398935, 12)\n",
            "Shape of y_train: (1595738,)\n",
            "Shape of y_test: (398935,)\n"
          ]
        }
      ]
    },
    {
      "cell_type": "code",
      "metadata": {
        "colab": {
          "base_uri": "https://localhost:8080/"
        },
        "id": "69c91fc6",
        "outputId": "c013b6f7-ae14-4197-edb3-68ffe7e9ab70"
      },
      "source": [
        "from sklearn.linear_model import LogisticRegression\n",
        "from sklearn.preprocessing import StandardScaler\n",
        "\n",
        "# Scale the data\n",
        "scaler = StandardScaler()\n",
        "X_train_scaled = scaler.fit_transform(X_train)\n",
        "X_test_scaled = scaler.transform(X_test)\n",
        "\n",
        "\n",
        "# Initialize and train the Logistic Regression model\n",
        "log_reg = LogisticRegression(random_state=42, max_iter=1000)\n",
        "log_reg.fit(X_train_scaled, y_train)\n",
        "\n",
        "print(\"Logistic Regression model trained successfully!\")"
      ],
      "execution_count": 16,
      "outputs": [
        {
          "output_type": "stream",
          "name": "stdout",
          "text": [
            "Logistic Regression model trained successfully!\n"
          ]
        }
      ]
    },
    {
      "cell_type": "code",
      "metadata": {
        "colab": {
          "base_uri": "https://localhost:8080/"
        },
        "id": "efb71ae3",
        "outputId": "92fb16d5-1573-4872-825b-cc71330cb26e"
      },
      "source": [
        "from sklearn.metrics import classification_report, confusion_matrix\n",
        "\n",
        "# Make predictions on the scaled test set\n",
        "y_pred = log_reg.predict(X_test_scaled)\n",
        "\n",
        "# Print the classification report\n",
        "print(\"Classification Report:\")\n",
        "print(classification_report(y_test, y_pred))\n",
        "\n",
        "# Print the confusion matrix\n",
        "print(\"\\nConfusion Matrix:\")\n",
        "print(confusion_matrix(y_test, y_pred))"
      ],
      "execution_count": 17,
      "outputs": [
        {
          "output_type": "stream",
          "name": "stdout",
          "text": [
            "Classification Report:\n",
            "              precision    recall  f1-score   support\n",
            "\n",
            "         0.0       1.00      1.00      1.00    398528\n",
            "         1.0       0.86      0.41      0.55       407\n",
            "\n",
            "    accuracy                           1.00    398935\n",
            "   macro avg       0.93      0.70      0.78    398935\n",
            "weighted avg       1.00      1.00      1.00    398935\n",
            "\n",
            "\n",
            "Confusion Matrix:\n",
            "[[398502     26]\n",
            " [   241    166]]\n"
          ]
        }
      ]
    },
    {
      "cell_type": "code",
      "metadata": {
        "colab": {
          "base_uri": "https://localhost:8080/"
        },
        "id": "6b0acd63",
        "outputId": "98553ed2-2c64-4d5d-f026-41ff00a5dd3b"
      },
      "source": [
        "from sklearn.ensemble import RandomForestClassifier\n",
        "\n",
        "# Initialize and train the Random Forest Classifier\n",
        "rf_clf = RandomForestClassifier(random_state=42)\n",
        "rf_clf.fit(X_train_scaled, y_train)\n",
        "\n",
        "print(\"Random Forest Classifier trained successfully!\")"
      ],
      "execution_count": 20,
      "outputs": [
        {
          "output_type": "stream",
          "name": "stdout",
          "text": [
            "Random Forest Classifier trained successfully!\n"
          ]
        }
      ]
    },
    {
      "cell_type": "code",
      "metadata": {
        "colab": {
          "base_uri": "https://localhost:8080/"
        },
        "id": "c7627e4b",
        "outputId": "e50ba85c-12ff-47ed-e824-84d8feda032f"
      },
      "source": [
        "from sklearn.metrics import classification_report, confusion_matrix\n",
        "\n",
        "# Make predictions on the scaled test set\n",
        "y_pred_rf = rf_clf.predict(X_test_scaled)\n",
        "\n",
        "# Print the classification report\n",
        "print(\"Random Forest Classification Report:\")\n",
        "print(classification_report(y_test, y_pred_rf))\n",
        "\n",
        "# Print the confusion matrix\n",
        "print(\"\\nRandom Forest Confusion Matrix:\")\n",
        "print(confusion_matrix(y_test, y_pred_rf))"
      ],
      "execution_count": 21,
      "outputs": [
        {
          "output_type": "stream",
          "name": "stdout",
          "text": [
            "Random Forest Classification Report:\n",
            "              precision    recall  f1-score   support\n",
            "\n",
            "         0.0       1.00      1.00      1.00    398528\n",
            "         1.0       1.00      0.98      0.99       407\n",
            "\n",
            "    accuracy                           1.00    398935\n",
            "   macro avg       1.00      0.99      1.00    398935\n",
            "weighted avg       1.00      1.00      1.00    398935\n",
            "\n",
            "\n",
            "Random Forest Confusion Matrix:\n",
            "[[398528      0]\n",
            " [     8    399]]\n"
          ]
        }
      ]
    },
    {
      "cell_type": "markdown",
      "metadata": {
        "id": "1dfadfe6"
      },
      "source": [
        "### 1. Data cleaning including missing values, outliers and multi-collinearity.\n",
        "\n",
        "*   **Missing Values:** The dataset had a small number of missing values (one row) in the `oldbalanceDest`, `newbalanceDest`, `isFraud`, and `isFlaggedFraud` columns. Since it was only one row, I chose to drop it from the dataset to maintain data integrity.\n",
        "\n",
        "*   **Outliers:** The boxplot of transaction amounts showed that there were many outliers, especially for fraudulent transactions. I did not remove these outliers because they are likely to be indicative of fraudulent activity. Fraudulent transactions are often unusually large or small, so removing these outliers could have resulted in the loss of valuable information.\n",
        "\n",
        "*   **Multi-collinearity:** I did not explicitly test for multicollinearity between all variables. However, I did create two new features, `errorBalanceOrig` and `errorBalanceDest`, which are derived from other features. While this could introduce some multicollinearity, tree-based models like Random Forest are generally robust to multicollinearity. The model's high performance suggests that multicollinearity was not a major issue in this case."
      ]
    },
    {
      "cell_type": "markdown",
      "metadata": {
        "id": "dc9876de"
      },
      "source": [
        "### 2. Describe your fraud detection model in elaboration.\n",
        "\n",
        "The fraud detection model is a **Random Forest Classifier**. Here's a detailed explanation:\n",
        "\n",
        "*   **What is a Random Forest?** A Random Forest is an ensemble learning method that operates by constructing a multitude of decision trees at training time and outputting the class that is the mode of the classes (classification) or mean prediction (regression) of the individual trees.\n",
        "\n",
        "*   **How does it work in this context?**\n",
        "    1.  **Bootstrap Aggregation (Bagging):** The Random Forest algorithm creates multiple random subsets of the training data (with replacement).\n",
        "    2.  **Random Feature Selection:** For each subset, it builds a decision tree. At each node of the tree, it considers only a random subset of the features for splitting. This randomness helps to decorrelate the trees and reduce variance.\n",
        "    3.  **Majority Voting:** To make a prediction for a new transaction, each decision tree in the forest makes its own prediction. The Random Forest then takes a majority vote of all the individual tree predictions to determine the final prediction (fraudulent or not fraudulent).\n",
        "\n",
        "*   **Why is it a good choice for this problem?**\n",
        "    *   **Handles Imbalanced Data Well:** Random Forests can be effective on imbalanced datasets like this one, where the number of fraudulent transactions is much smaller than the number of non-fraudulent transactions. By building multiple trees on different subsets of the data, it increases the chances of the minority class (fraud) being represented in the training process.\n",
        "    *   **Robust to Outliers:** The decision tree structure of the Random Forest makes it less sensitive to outliers in the data.\n",
        "    *   **Reduces Overfitting:** By averaging the predictions of multiple trees, the Random Forest reduces the risk of overfitting to the training data, which can be a problem with single decision trees.\n",
        "    *   **Provides Feature Importance:** As we've already seen, the Random Forest model provides a measure of feature importance, which helps us to understand which factors are most predictive of fraud."
      ]
    },
    {
      "cell_type": "markdown",
      "metadata": {
        "id": "e62f1362"
      },
      "source": [
        "### 3. How did you select variables to be included in the model?\n",
        "\n",
        "The selection of variables for the model was a multi-step process:\n",
        "\n",
        "1.  **Initial Feature Set:** I started with all the variables in the dataset, except for the target variable `isFraud`.\n",
        "\n",
        "2.  **Feature Engineering:** I created two new features, `errorBalanceOrig` and `errorBalanceDest`, to capture the discrepancy between the expected and actual balances after a transaction. These features were designed to be more informative than the original balance features alone.\n",
        "\n",
        "3.  **Handling Categorical Variables:** I converted the `type` column, which is a categorical variable, into a numerical format using one-hot encoding. This allows the model to use this information in its calculations.\n",
        "\n",
        "4.  **Dropping Irrelevant Features:** I dropped the `nameOrig` and `nameDest` columns because they are just identifiers and do not contain any predictive information. I also dropped the `isFlaggedFraud` column because it is a rule-based flag and I wanted to build a model that could learn the patterns of fraud from the data itself.\n",
        "\n",
        "5.  **Feature Importance:** After training the Random Forest model, I used its feature importance scores to understand which variables were most predictive of fraud. The feature importance plot shows that `newbalanceOrig`, `errorBalanceOrig`, `amount`, and `newbalanceDest` are the most important features. This confirms that the feature engineering and selection process was effective."
      ]
    },
    {
      "cell_type": "markdown",
      "metadata": {
        "id": "edbfd3ea"
      },
      "source": [
        "### 4. Demonstrate the performance of the model by using best set of tools.\n",
        "\n",
        "The performance of the Random Forest model was evaluated using a **confusion matrix** and a **classification report**. These are standard tools for evaluating the performance of a classification model.\n",
        "\n",
        "**Confusion Matrix:**\n",
        "\n",
        "The confusion matrix provides a detailed breakdown of the model's predictions. Here's the confusion matrix for our Random Forest model:"
      ]
    },
    {
      "cell_type": "markdown",
      "metadata": {
        "id": "de251043"
      },
      "source": [
        "### 4. Demonstrate the performance of the model by using best set of tools.\n",
        "\n",
        "The performance of the Random Forest model was evaluated using a **confusion matrix** and a **classification report**. These are standard tools for evaluating the performance of a classification model.\n",
        "\n",
        "**Confusion Matrix:**\n",
        "\n",
        "The confusion matrix provides a detailed breakdown of the model's predictions. Here's the confusion matrix for our Random Forest model:\n",
        "\n",
        "```\n",
        "[[398528      0]\n",
        " [     8    399]]\n",
        "```\n",
        "\n",
        "*   **True Positives (TP):** 399 (Correctly identified as fraud)\n",
        "*   **False Positives (FP):** 0 (Incorrectly identified as fraud)\n",
        "*   **True Negatives (TN):** 398528 (Correctly identified as not fraud)\n",
        "*   **False Negatives (FN):** 8 (Incorrectly identified as not fraud)\n",
        "\n",
        "**Classification Report:**\n",
        "\n",
        "The classification report provides a more detailed breakdown of the model's performance, including precision, recall, and the F1-score.\n",
        "\n",
        "```\n",
        "              precision    recall  f1-score   support\n",
        "\n",
        "         0.0       1.00      1.00      1.00    398528\n",
        "         1.0       1.00      0.98      0.99       407\n",
        "\n",
        "    accuracy                           1.00    398935\n",
        "   macro avg       1.00      0.99      1.00    398935\n",
        "weighted avg       1.00      1.00      1.00    398935\n",
        "```\n",
        "\n",
        "**Comparison to Logistic Regression:**\n",
        "\n",
        "As you can see from the results, the Random Forest model significantly outperforms the Logistic Regression model. The Random Forest has a much higher recall for the fraudulent class (0.98 vs. 0.41), which means it is much better at identifying fraudulent transactions. It also has a perfect precision score of 1.00, which means that it does not incorrectly flag any legitimate transactions as fraudulent."
      ]
    },
    {
      "cell_type": "markdown",
      "metadata": {
        "id": "30530d1e"
      },
      "source": [
        "### 5. What are the key factors that predict fraudulent customer?\n",
        "\n",
        "Based on the feature importance plot from our Random Forest model, the key factors that predict a fraudulent customer are, in order of importance:\n",
        "\n",
        "1.  **`newbalanceOrig`**: The new balance of the origin account after the transaction. A value of 0 is highly indicative of fraud.\n",
        "2.  **`errorBalanceOrig`**: The discrepancy between the expected and actual balance of the origin account. A large error is a strong indicator of fraud.\n",
        "3.  **`amount`**: The amount of the transaction. Unusually large or small amounts can be a sign of fraud.\n",
        "4.  **`newbalanceDest`**: The new balance of the destination account after the transaction.\n",
        "5.  **`errorBalanceDest`**: The discrepancy between the expected and actual balance of the destination account.\n",
        "6.  **`oldbalanceOrg`**: The old balance of the origin account before the transaction.\n",
        "7.  **`oldbalanceDest`**: The old balance of the destination account before the transaction.\n",
        "8.  **`type_TRANSFER`**: Whether the transaction is a transfer.\n",
        "9.  **`step`**: The hour of the day when the transaction occurred.\n",
        "10. **`type_CASH_OUT`**: Whether the transaction is a cash-out.\n",
        "11. **`type_PAYMENT`**: Whether the transaction is a payment.\n",
        "12. **`type_DEBIT`**: Whether the transaction is a debit."
      ]
    },
    {
      "cell_type": "markdown",
      "metadata": {
        "id": "3432b8ca"
      },
      "source": [
        "### 6. Do these factors make sense? If yes, How? If not, How not?\n",
        "\n",
        "Yes, these factors make perfect sense in the context of fraud detection. Here's why:\n",
        "\n",
        "*   **`newbalanceOrig` and `errorBalanceOrig`**: A fraudulent transaction often involves emptying an account, so a new balance of 0 in the origin account is a huge red flag. Similarly, a large discrepancy between the expected and actual balance of the origin account suggests that something is wrong with the transaction.\n",
        "\n",
        "*   **`amount`**: Fraudulent transactions are often for unusually large amounts, as criminals try to maximize their gains. However, they can also be for small amounts, as criminals may test the system with a small transaction before attempting a larger one.\n",
        "\n",
        "*   **`newbalanceDest` and `errorBalanceDest`**: A large new balance in the destination account, especially if the old balance was 0, can be a sign of a fraudulent transaction. Similarly, a large discrepancy between the expected and actual balance of the destination account can be a sign of fraud.\n",
        "\n",
        "*   **`type_TRANSFER` and `type_CASH_OUT`**: These are the two types of transactions that are most commonly used for fraud, as they allow criminals to move money quickly and easily.\n",
        "\n",
        "*   **`step`**: The time of day can be a factor in fraud, as criminals may try to commit fraud during off-hours when they think they are less likely to be caught.\n",
        "\n",
        "*   **`oldbalanceOrg` and `oldbalanceDest`**: These features provide context for the transaction and can help to identify unusual patterns. For example, a large transaction from an account that has a history of small transactions could be a sign of fraud."
      ]
    },
    {
      "cell_type": "markdown",
      "metadata": {
        "id": "0d43db5c"
      },
      "source": [
        "### 7. What kind of prevention should be adopted while company update its infrastructure?\n",
        "\n",
        "Based on our findings, here are some preventive measures that the company should consider adopting while updating its infrastructure:\n",
        "\n",
        "*   **Real-time Transaction Monitoring:** Implement a real-time transaction monitoring system that can flag suspicious transactions based on the key factors we identified. This system should be able to block transactions that are highly likely to be fraudulent before they are even processed.\n",
        "\n",
        "*   **Multi-factor Authentication (MFA):** Implement MFA for all transactions, especially for large transactions and transactions that are initiated from a new device or location. This will add an extra layer of security and make it more difficult for criminals to gain unauthorized access to accounts.\n",
        "\n",
        "*   **Velocity Checks:** Implement velocity checks to monitor the number and amount of transactions that are initiated from a single account or device in a short period of time. This can help to detect and prevent automated attacks, such as botnets.\n",
        "\n",
        "*   **Machine Learning-based Fraud Detection:** Continue to develop and improve the machine learning-based fraud detection model. The model should be retrained regularly with new data to ensure that it is up-to-date with the latest fraud trends.\n",
        "\n",
        "*   **Customer Education:** Educate customers about the latest fraud trends and how to protect themselves from fraud. This can help to reduce the number of successful phishing attacks and other social engineering scams.\n",
        "\n",
        "*   **Collaboration with Law Enforcement:** Collaborate with law enforcement to share information about fraud trends and to report fraudulent activity. This can help to bring criminals to justice and to prevent future attacks."
      ]
    },
    {
      "cell_type": "markdown",
      "metadata": {
        "id": "69acca7b"
      },
      "source": [
        "### 8. Assuming these actions have been implemented, how would you determine if they work?\n",
        "\n",
        "To determine if the implemented actions are effective, you would need to establish a robust monitoring and evaluation framework. Here's how you could do it:\n",
        "\n",
        "*   **A/B Testing:** For some of the new measures, you could use A/B testing to compare the new system to the old one. For example, you could roll out the new MFA system to a small group of customers and compare their fraud rates to a control group that is still using the old system.\n",
        "\n",
        "*   **Key Performance Indicators (KPIs):** You would need to track a set of KPIs to measure the effectiveness of the new system. These KPIs could include:\n",
        "    *   **Fraud Rate:** The percentage of transactions that are fraudulent.\n",
        "    *   **False Positive Rate:** The percentage of legitimate transactions that are incorrectly flagged as fraudulent.\n",
        "    *   **False Negative Rate:** The percentage of fraudulent transactions that are not detected by the system.\n",
        "    *   **Customer Satisfaction:** You would need to survey customers to see if they are satisfied with the new security measures.\n",
        "    *   **Cost of Fraud:** The total amount of money lost to fraud.\n",
        "\n",
        "*   **Regular Reporting:** You would need to create regular reports to track the KPIs and to identify any new fraud trends. These reports should be shared with all relevant stakeholders, including the fraud team, the product team, and the executive team.\n",
        "\n",
        "*   **Model Retraining and Updating:** The fraud landscape is constantly changing, so you would need to regularly retrain and update your fraud detection model with new data. This will ensure that the model remains effective over time.\n",
        "\n",
        "By implementing this monitoring and evaluation framework, you would be able to determine if the new security measures are effective and to make any necessary adjustments to improve their performance."
      ]
    }
  ]
}