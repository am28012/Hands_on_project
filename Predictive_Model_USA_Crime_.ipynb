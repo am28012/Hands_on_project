{
  "nbformat": 4,
  "nbformat_minor": 0,
  "metadata": {
    "colab": {
      "provenance": [],
      "authorship_tag": "ABX9TyPp/HxgiXkp1yWkQiEFUgr7",
      "include_colab_link": true
    },
    "kernelspec": {
      "name": "python3",
      "display_name": "Python 3"
    },
    "language_info": {
      "name": "python"
    }
  },
  "cells": [
    {
      "cell_type": "markdown",
      "metadata": {
        "id": "view-in-github",
        "colab_type": "text"
      },
      "source": [
        "<a href=\"https://colab.research.google.com/github/am28012/Hands_on_project/blob/main/Predictive_Model_USA_Crime_.ipynb\" target=\"_parent\"><img src=\"https://colab.research.google.com/assets/colab-badge.svg\" alt=\"Open In Colab\"/></a>"
      ]
    },
    {
      "cell_type": "code",
      "execution_count": 2,
      "metadata": {
        "id": "wF4tDSKgthQ_"
      },
      "outputs": [],
      "source": [
        "import pandas as pd\n",
        "import seaborn as sns\n",
        "import matplotlib.pyplot as plt\n",
        "import scipy.stats\n",
        "import statsmodels.api as sm\n",
        "from statsmodels.formula.api import ols\n",
        "from scipy.stats import pearsonr"
      ]
    },
    {
      "cell_type": "code",
      "source": [
        "df = pd.read_csv('/content/crime_safety_dataset.cleaned.csv')"
      ],
      "metadata": {
        "id": "1FTmhDCVv2eb"
      },
      "execution_count": 4,
      "outputs": []
    },
    {
      "cell_type": "code",
      "source": [
        "print(\"DataFrame Info:\")\n",
        "df.info()\n",
        "print(f\"\\nStatistical Summary : {df.describe(include = 'all')}\")"
      ],
      "metadata": {
        "colab": {
          "base_uri": "https://localhost:8080/"
        },
        "id": "ND5NJw4qwAju",
        "outputId": "88d7ddcf-adff-4d98-cefb-f89a522b2094"
      },
      "execution_count": 23,
      "outputs": [
        {
          "output_type": "stream",
          "name": "stdout",
          "text": [
            "DataFrame Info:\n",
            "<class 'pandas.core.frame.DataFrame'>\n",
            "RangeIndex: 1000 entries, 0 to 999\n",
            "Data columns (total 16 columns):\n",
            " #   Column                Non-Null Count  Dtype \n",
            "---  ------                --------------  ----- \n",
            " 0   id                    1000 non-null   int64 \n",
            " 1   date                  1000 non-null   object\n",
            " 2   time                  1000 non-null   object\n",
            " 3   crime_type            1000 non-null   object\n",
            " 4   city                  1000 non-null   object\n",
            " 5   state                 1000 non-null   object\n",
            " 6   location_description  1000 non-null   object\n",
            " 7   victim_age            1000 non-null   int64 \n",
            " 8   victim_gender         1000 non-null   object\n",
            " 9   victim_race           1000 non-null   object\n",
            " 10  date_dt               1000 non-null   object\n",
            " 11  day_of_week           1000 non-null   object\n",
            " 12  month                 1000 non-null   object\n",
            " 13  year                  1000 non-null   int32 \n",
            " 14  time_ts               1000 non-null   object\n",
            " 15  monthyear             1000 non-null   object\n",
            "dtypes: int32(1), int64(2), object(13)\n",
            "memory usage: 121.2+ KB\n",
            "\n",
            "Statistical Summary :                  id        date      time         crime_type    city state  \\\n",
            "count   1000.000000        1000      1000               1000    1000  1000   \n",
            "unique          NaN         772       996                 10      10     6   \n",
            "top             NaN  14-06-2022  13:17:28  Domestic Violence  Dallas    TX   \n",
            "freq            NaN           5         2                121     106   307   \n",
            "mean     500.500000         NaN       NaN                NaN     NaN   NaN   \n",
            "std      288.819436         NaN       NaN                NaN     NaN   NaN   \n",
            "min        1.000000         NaN       NaN                NaN     NaN   NaN   \n",
            "25%      250.750000         NaN       NaN                NaN     NaN   NaN   \n",
            "50%      500.500000         NaN       NaN                NaN     NaN   NaN   \n",
            "75%      750.250000         NaN       NaN                NaN     NaN   NaN   \n",
            "max     1000.000000         NaN       NaN                NaN     NaN   NaN   \n",
            "\n",
            "       location_description   victim_age victim_gender victim_race  \\\n",
            "count                  1000  1000.000000          1000        1000   \n",
            "unique                  988          NaN             4           5   \n",
            "top            1537 Main St          NaN          Male       Other   \n",
            "freq                      2          NaN           272         211   \n",
            "mean                    NaN    52.201000           NaN         NaN   \n",
            "std                     NaN    22.913831           NaN         NaN   \n",
            "min                     NaN    12.000000           NaN         NaN   \n",
            "25%                     NaN    33.000000           NaN         NaN   \n",
            "50%                     NaN    53.000000           NaN         NaN   \n",
            "75%                     NaN    72.000000           NaN         NaN   \n",
            "max                     NaN    90.000000           NaN         NaN   \n",
            "\n",
            "           date_dt day_of_week     month         year   time_ts monthyear  \n",
            "count         1000        1000      1000  1000.000000      1000      1000  \n",
            "unique         772           7        12          NaN       996        61  \n",
            "top     2022-06-14      Friday  December          NaN  13:17:28   01-2022  \n",
            "freq             5         155       103          NaN         2        25  \n",
            "mean           NaN         NaN       NaN  2022.544000       NaN       NaN  \n",
            "std            NaN         NaN       NaN     1.486026       NaN       NaN  \n",
            "min            NaN         NaN       NaN  2020.000000       NaN       NaN  \n",
            "25%            NaN         NaN       NaN  2021.000000       NaN       NaN  \n",
            "50%            NaN         NaN       NaN  2023.000000       NaN       NaN  \n",
            "75%            NaN         NaN       NaN  2024.000000       NaN       NaN  \n",
            "max            NaN         NaN       NaN  2025.000000       NaN       NaN  \n"
          ]
        }
      ]
    },
    {
      "cell_type": "code",
      "source": [
        "df.isna().sum()"
      ],
      "metadata": {
        "colab": {
          "base_uri": "https://localhost:8080/",
          "height": 398
        },
        "id": "mvLAzbPHwyfY",
        "outputId": "dc24cdc1-3fdf-4c98-968b-216136d58787"
      },
      "execution_count": 10,
      "outputs": [
        {
          "output_type": "execute_result",
          "data": {
            "text/plain": [
              "id                      0\n",
              "date                    0\n",
              "time                    0\n",
              "crime_type              0\n",
              "city                    0\n",
              "state                   0\n",
              "location_description    0\n",
              "victim_age              0\n",
              "victim_gender           0\n",
              "victim_race             0\n",
              "dtype: int64"
            ],
            "text/html": [
              "<div>\n",
              "<style scoped>\n",
              "    .dataframe tbody tr th:only-of-type {\n",
              "        vertical-align: middle;\n",
              "    }\n",
              "\n",
              "    .dataframe tbody tr th {\n",
              "        vertical-align: top;\n",
              "    }\n",
              "\n",
              "    .dataframe thead th {\n",
              "        text-align: right;\n",
              "    }\n",
              "</style>\n",
              "<table border=\"1\" class=\"dataframe\">\n",
              "  <thead>\n",
              "    <tr style=\"text-align: right;\">\n",
              "      <th></th>\n",
              "      <th>0</th>\n",
              "    </tr>\n",
              "  </thead>\n",
              "  <tbody>\n",
              "    <tr>\n",
              "      <th>id</th>\n",
              "      <td>0</td>\n",
              "    </tr>\n",
              "    <tr>\n",
              "      <th>date</th>\n",
              "      <td>0</td>\n",
              "    </tr>\n",
              "    <tr>\n",
              "      <th>time</th>\n",
              "      <td>0</td>\n",
              "    </tr>\n",
              "    <tr>\n",
              "      <th>crime_type</th>\n",
              "      <td>0</td>\n",
              "    </tr>\n",
              "    <tr>\n",
              "      <th>city</th>\n",
              "      <td>0</td>\n",
              "    </tr>\n",
              "    <tr>\n",
              "      <th>state</th>\n",
              "      <td>0</td>\n",
              "    </tr>\n",
              "    <tr>\n",
              "      <th>location_description</th>\n",
              "      <td>0</td>\n",
              "    </tr>\n",
              "    <tr>\n",
              "      <th>victim_age</th>\n",
              "      <td>0</td>\n",
              "    </tr>\n",
              "    <tr>\n",
              "      <th>victim_gender</th>\n",
              "      <td>0</td>\n",
              "    </tr>\n",
              "    <tr>\n",
              "      <th>victim_race</th>\n",
              "      <td>0</td>\n",
              "    </tr>\n",
              "  </tbody>\n",
              "</table>\n",
              "</div><br><label><b>dtype:</b> int64</label>"
            ]
          },
          "metadata": {},
          "execution_count": 10
        }
      ]
    },
    {
      "cell_type": "code",
      "source": [
        "df['date_dt'] = pd.to_datetime(df['date'] , format = '%d-%m-%Y' ).dt.date"
      ],
      "metadata": {
        "id": "dF-tCo4h8XHm"
      },
      "execution_count": 14,
      "outputs": []
    },
    {
      "cell_type": "code",
      "metadata": {
        "colab": {
          "base_uri": "https://localhost:8080/",
          "height": 400
        },
        "id": "c0aa70eb",
        "outputId": "a4580b30-b1c9-429e-fd12-23518bec060e"
      },
      "source": [
        "df['day_of_week'] = pd.to_datetime(df['date_dt']).dt.day_name()\n",
        "df['month'] = pd.to_datetime(df['date_dt']).dt.month_name()\n",
        "df['year'] = pd.to_datetime(df['date_dt']).dt.year\n",
        "display(df.head())"
      ],
      "execution_count": 17,
      "outputs": [
        {
          "output_type": "display_data",
          "data": {
            "text/plain": [
              "   id        date      time crime_type          city state  \\\n",
              "0   1  09-09-2022  18:58:57   Homicide  Philadelphia    PA   \n",
              "1   2  10-07-2022  12:10:59    Assault       Phoenix    AZ   \n",
              "2   3  31-12-2024  09:26:12   Burglary   San Antonio    TX   \n",
              "3   4  12-04-2024  23:17:28  Vandalism  Philadelphia    PA   \n",
              "4   5  19-07-2023  04:49:39      Fraud   San Antonio    TX   \n",
              "\n",
              "  location_description  victim_age victim_gender victim_race     date_dt  \\\n",
              "0        9916 Broadway          34          Male       Other  2022-09-09   \n",
              "1          6853 Oak St          13        Female       Black  2022-07-10   \n",
              "2       3760 Maple Ave          23          Male       Asian  2024-12-31   \n",
              "3         6781 Main St          36         Other       Asian  2024-04-12   \n",
              "4        3239 Broadway          26         Other       Other  2023-07-19   \n",
              "\n",
              "  day_of_week      month  year  \n",
              "0      Friday  September  2022  \n",
              "1      Sunday       July  2022  \n",
              "2     Tuesday   December  2024  \n",
              "3      Friday      April  2024  \n",
              "4   Wednesday       July  2023  "
            ],
            "text/html": [
              "\n",
              "  <div id=\"df-f6256c25-2a2d-4199-b554-7f5d2ac7b028\" class=\"colab-df-container\">\n",
              "    <div>\n",
              "<style scoped>\n",
              "    .dataframe tbody tr th:only-of-type {\n",
              "        vertical-align: middle;\n",
              "    }\n",
              "\n",
              "    .dataframe tbody tr th {\n",
              "        vertical-align: top;\n",
              "    }\n",
              "\n",
              "    .dataframe thead th {\n",
              "        text-align: right;\n",
              "    }\n",
              "</style>\n",
              "<table border=\"1\" class=\"dataframe\">\n",
              "  <thead>\n",
              "    <tr style=\"text-align: right;\">\n",
              "      <th></th>\n",
              "      <th>id</th>\n",
              "      <th>date</th>\n",
              "      <th>time</th>\n",
              "      <th>crime_type</th>\n",
              "      <th>city</th>\n",
              "      <th>state</th>\n",
              "      <th>location_description</th>\n",
              "      <th>victim_age</th>\n",
              "      <th>victim_gender</th>\n",
              "      <th>victim_race</th>\n",
              "      <th>date_dt</th>\n",
              "      <th>day_of_week</th>\n",
              "      <th>month</th>\n",
              "      <th>year</th>\n",
              "    </tr>\n",
              "  </thead>\n",
              "  <tbody>\n",
              "    <tr>\n",
              "      <th>0</th>\n",
              "      <td>1</td>\n",
              "      <td>09-09-2022</td>\n",
              "      <td>18:58:57</td>\n",
              "      <td>Homicide</td>\n",
              "      <td>Philadelphia</td>\n",
              "      <td>PA</td>\n",
              "      <td>9916 Broadway</td>\n",
              "      <td>34</td>\n",
              "      <td>Male</td>\n",
              "      <td>Other</td>\n",
              "      <td>2022-09-09</td>\n",
              "      <td>Friday</td>\n",
              "      <td>September</td>\n",
              "      <td>2022</td>\n",
              "    </tr>\n",
              "    <tr>\n",
              "      <th>1</th>\n",
              "      <td>2</td>\n",
              "      <td>10-07-2022</td>\n",
              "      <td>12:10:59</td>\n",
              "      <td>Assault</td>\n",
              "      <td>Phoenix</td>\n",
              "      <td>AZ</td>\n",
              "      <td>6853 Oak St</td>\n",
              "      <td>13</td>\n",
              "      <td>Female</td>\n",
              "      <td>Black</td>\n",
              "      <td>2022-07-10</td>\n",
              "      <td>Sunday</td>\n",
              "      <td>July</td>\n",
              "      <td>2022</td>\n",
              "    </tr>\n",
              "    <tr>\n",
              "      <th>2</th>\n",
              "      <td>3</td>\n",
              "      <td>31-12-2024</td>\n",
              "      <td>09:26:12</td>\n",
              "      <td>Burglary</td>\n",
              "      <td>San Antonio</td>\n",
              "      <td>TX</td>\n",
              "      <td>3760 Maple Ave</td>\n",
              "      <td>23</td>\n",
              "      <td>Male</td>\n",
              "      <td>Asian</td>\n",
              "      <td>2024-12-31</td>\n",
              "      <td>Tuesday</td>\n",
              "      <td>December</td>\n",
              "      <td>2024</td>\n",
              "    </tr>\n",
              "    <tr>\n",
              "      <th>3</th>\n",
              "      <td>4</td>\n",
              "      <td>12-04-2024</td>\n",
              "      <td>23:17:28</td>\n",
              "      <td>Vandalism</td>\n",
              "      <td>Philadelphia</td>\n",
              "      <td>PA</td>\n",
              "      <td>6781 Main St</td>\n",
              "      <td>36</td>\n",
              "      <td>Other</td>\n",
              "      <td>Asian</td>\n",
              "      <td>2024-04-12</td>\n",
              "      <td>Friday</td>\n",
              "      <td>April</td>\n",
              "      <td>2024</td>\n",
              "    </tr>\n",
              "    <tr>\n",
              "      <th>4</th>\n",
              "      <td>5</td>\n",
              "      <td>19-07-2023</td>\n",
              "      <td>04:49:39</td>\n",
              "      <td>Fraud</td>\n",
              "      <td>San Antonio</td>\n",
              "      <td>TX</td>\n",
              "      <td>3239 Broadway</td>\n",
              "      <td>26</td>\n",
              "      <td>Other</td>\n",
              "      <td>Other</td>\n",
              "      <td>2023-07-19</td>\n",
              "      <td>Wednesday</td>\n",
              "      <td>July</td>\n",
              "      <td>2023</td>\n",
              "    </tr>\n",
              "  </tbody>\n",
              "</table>\n",
              "</div>\n",
              "    <div class=\"colab-df-buttons\">\n",
              "\n",
              "  <div class=\"colab-df-container\">\n",
              "    <button class=\"colab-df-convert\" onclick=\"convertToInteractive('df-f6256c25-2a2d-4199-b554-7f5d2ac7b028')\"\n",
              "            title=\"Convert this dataframe to an interactive table.\"\n",
              "            style=\"display:none;\">\n",
              "\n",
              "  <svg xmlns=\"http://www.w3.org/2000/svg\" height=\"24px\" viewBox=\"0 -960 960 960\">\n",
              "    <path d=\"M120-120v-720h720v720H120Zm60-500h600v-160H180v160Zm220 220h160v-160H400v160Zm0 220h160v-160H400v160ZM180-400h160v-160H180v160Zm440 0h160v-160H620v160ZM180-180h160v-160H180v160Zm440 0h160v-160H620v160Z\"/>\n",
              "  </svg>\n",
              "    </button>\n",
              "\n",
              "  <style>\n",
              "    .colab-df-container {\n",
              "      display:flex;\n",
              "      gap: 12px;\n",
              "    }\n",
              "\n",
              "    .colab-df-convert {\n",
              "      background-color: #E8F0FE;\n",
              "      border: none;\n",
              "      border-radius: 50%;\n",
              "      cursor: pointer;\n",
              "      display: none;\n",
              "      fill: #1967D2;\n",
              "      height: 32px;\n",
              "      padding: 0 0 0 0;\n",
              "      width: 32px;\n",
              "    }\n",
              "\n",
              "    .colab-df-convert:hover {\n",
              "      background-color: #E2EBFA;\n",
              "      box-shadow: 0px 1px 2px rgba(60, 64, 67, 0.3), 0px 1px 3px 1px rgba(60, 64, 67, 0.15);\n",
              "      fill: #174EA6;\n",
              "    }\n",
              "\n",
              "    .colab-df-buttons div {\n",
              "      margin-bottom: 4px;\n",
              "    }\n",
              "\n",
              "    [theme=dark] .colab-df-convert {\n",
              "      background-color: #3B4455;\n",
              "      fill: #D2E3FC;\n",
              "    }\n",
              "\n",
              "    [theme=dark] .colab-df-convert:hover {\n",
              "      background-color: #434B5C;\n",
              "      box-shadow: 0px 1px 3px 1px rgba(0, 0, 0, 0.15);\n",
              "      filter: drop-shadow(0px 1px 2px rgba(0, 0, 0, 0.3));\n",
              "      fill: #FFFFFF;\n",
              "    }\n",
              "  </style>\n",
              "\n",
              "    <script>\n",
              "      const buttonEl =\n",
              "        document.querySelector('#df-f6256c25-2a2d-4199-b554-7f5d2ac7b028 button.colab-df-convert');\n",
              "      buttonEl.style.display =\n",
              "        google.colab.kernel.accessAllowed ? 'block' : 'none';\n",
              "\n",
              "      async function convertToInteractive(key) {\n",
              "        const element = document.querySelector('#df-f6256c25-2a2d-4199-b554-7f5d2ac7b028');\n",
              "        const dataTable =\n",
              "          await google.colab.kernel.invokeFunction('convertToInteractive',\n",
              "                                                    [key], {});\n",
              "        if (!dataTable) return;\n",
              "\n",
              "        const docLinkHtml = 'Like what you see? Visit the ' +\n",
              "          '<a target=\"_blank\" href=https://colab.research.google.com/notebooks/data_table.ipynb>data table notebook</a>'\n",
              "          + ' to learn more about interactive tables.';\n",
              "        element.innerHTML = '';\n",
              "        dataTable['output_type'] = 'display_data';\n",
              "        await google.colab.output.renderOutput(dataTable, element);\n",
              "        const docLink = document.createElement('div');\n",
              "        docLink.innerHTML = docLinkHtml;\n",
              "        element.appendChild(docLink);\n",
              "      }\n",
              "    </script>\n",
              "  </div>\n",
              "\n",
              "\n",
              "    <div id=\"df-6caeb49b-fbc3-4fcd-95ec-931c8c0937be\">\n",
              "      <button class=\"colab-df-quickchart\" onclick=\"quickchart('df-6caeb49b-fbc3-4fcd-95ec-931c8c0937be')\"\n",
              "                title=\"Suggest charts\"\n",
              "                style=\"display:none;\">\n",
              "\n",
              "<svg xmlns=\"http://www.w3.org/2000/svg\" height=\"24px\"viewBox=\"0 0 24 24\"\n",
              "     width=\"24px\">\n",
              "    <g>\n",
              "        <path d=\"M19 3H5c-1.1 0-2 .9-2 2v14c0 1.1.9 2 2 2h14c1.1 0 2-.9 2-2V5c0-1.1-.9-2-2-2zM9 17H7v-7h2v7zm4 0h-2V7h2v10zm4 0h-2v-4h2v4z\"/>\n",
              "    </g>\n",
              "</svg>\n",
              "      </button>\n",
              "\n",
              "<style>\n",
              "  .colab-df-quickchart {\n",
              "      --bg-color: #E8F0FE;\n",
              "      --fill-color: #1967D2;\n",
              "      --hover-bg-color: #E2EBFA;\n",
              "      --hover-fill-color: #174EA6;\n",
              "      --disabled-fill-color: #AAA;\n",
              "      --disabled-bg-color: #DDD;\n",
              "  }\n",
              "\n",
              "  [theme=dark] .colab-df-quickchart {\n",
              "      --bg-color: #3B4455;\n",
              "      --fill-color: #D2E3FC;\n",
              "      --hover-bg-color: #434B5C;\n",
              "      --hover-fill-color: #FFFFFF;\n",
              "      --disabled-bg-color: #3B4455;\n",
              "      --disabled-fill-color: #666;\n",
              "  }\n",
              "\n",
              "  .colab-df-quickchart {\n",
              "    background-color: var(--bg-color);\n",
              "    border: none;\n",
              "    border-radius: 50%;\n",
              "    cursor: pointer;\n",
              "    display: none;\n",
              "    fill: var(--fill-color);\n",
              "    height: 32px;\n",
              "    padding: 0;\n",
              "    width: 32px;\n",
              "  }\n",
              "\n",
              "  .colab-df-quickchart:hover {\n",
              "    background-color: var(--hover-bg-color);\n",
              "    box-shadow: 0 1px 2px rgba(60, 64, 67, 0.3), 0 1px 3px 1px rgba(60, 64, 67, 0.15);\n",
              "    fill: var(--button-hover-fill-color);\n",
              "  }\n",
              "\n",
              "  .colab-df-quickchart-complete:disabled,\n",
              "  .colab-df-quickchart-complete:disabled:hover {\n",
              "    background-color: var(--disabled-bg-color);\n",
              "    fill: var(--disabled-fill-color);\n",
              "    box-shadow: none;\n",
              "  }\n",
              "\n",
              "  .colab-df-spinner {\n",
              "    border: 2px solid var(--fill-color);\n",
              "    border-color: transparent;\n",
              "    border-bottom-color: var(--fill-color);\n",
              "    animation:\n",
              "      spin 1s steps(1) infinite;\n",
              "  }\n",
              "\n",
              "  @keyframes spin {\n",
              "    0% {\n",
              "      border-color: transparent;\n",
              "      border-bottom-color: var(--fill-color);\n",
              "      border-left-color: var(--fill-color);\n",
              "    }\n",
              "    20% {\n",
              "      border-color: transparent;\n",
              "      border-left-color: var(--fill-color);\n",
              "      border-top-color: var(--fill-color);\n",
              "    }\n",
              "    30% {\n",
              "      border-color: transparent;\n",
              "      border-left-color: var(--fill-color);\n",
              "      border-top-color: var(--fill-color);\n",
              "      border-right-color: var(--fill-color);\n",
              "    }\n",
              "    40% {\n",
              "      border-color: transparent;\n",
              "      border-right-color: var(--fill-color);\n",
              "      border-top-color: var(--fill-color);\n",
              "    }\n",
              "    60% {\n",
              "      border-color: transparent;\n",
              "      border-right-color: var(--fill-color);\n",
              "    }\n",
              "    80% {\n",
              "      border-color: transparent;\n",
              "      border-right-color: var(--fill-color);\n",
              "      border-bottom-color: var(--fill-color);\n",
              "    }\n",
              "    90% {\n",
              "      border-color: transparent;\n",
              "      border-bottom-color: var(--fill-color);\n",
              "    }\n",
              "  }\n",
              "</style>\n",
              "\n",
              "      <script>\n",
              "        async function quickchart(key) {\n",
              "          const quickchartButtonEl =\n",
              "            document.querySelector('#' + key + ' button');\n",
              "          quickchartButtonEl.disabled = true;  // To prevent multiple clicks.\n",
              "          quickchartButtonEl.classList.add('colab-df-spinner');\n",
              "          try {\n",
              "            const charts = await google.colab.kernel.invokeFunction(\n",
              "                'suggestCharts', [key], {});\n",
              "          } catch (error) {\n",
              "            console.error('Error during call to suggestCharts:', error);\n",
              "          }\n",
              "          quickchartButtonEl.classList.remove('colab-df-spinner');\n",
              "          quickchartButtonEl.classList.add('colab-df-quickchart-complete');\n",
              "        }\n",
              "        (() => {\n",
              "          let quickchartButtonEl =\n",
              "            document.querySelector('#df-6caeb49b-fbc3-4fcd-95ec-931c8c0937be button');\n",
              "          quickchartButtonEl.style.display =\n",
              "            google.colab.kernel.accessAllowed ? 'block' : 'none';\n",
              "        })();\n",
              "      </script>\n",
              "    </div>\n",
              "\n",
              "    </div>\n",
              "  </div>\n"
            ],
            "application/vnd.google.colaboratory.intrinsic+json": {
              "type": "dataframe",
              "summary": "{\n  \"name\": \"display(df\",\n  \"rows\": 5,\n  \"fields\": [\n    {\n      \"column\": \"id\",\n      \"properties\": {\n        \"dtype\": \"number\",\n        \"std\": 1,\n        \"min\": 1,\n        \"max\": 5,\n        \"num_unique_values\": 5,\n        \"samples\": [\n          2,\n          5,\n          3\n        ],\n        \"semantic_type\": \"\",\n        \"description\": \"\"\n      }\n    },\n    {\n      \"column\": \"date\",\n      \"properties\": {\n        \"dtype\": \"string\",\n        \"num_unique_values\": 5,\n        \"samples\": [\n          \"10-07-2022\",\n          \"19-07-2023\",\n          \"31-12-2024\"\n        ],\n        \"semantic_type\": \"\",\n        \"description\": \"\"\n      }\n    },\n    {\n      \"column\": \"time\",\n      \"properties\": {\n        \"dtype\": \"object\",\n        \"num_unique_values\": 5,\n        \"samples\": [\n          \"12:10:59\",\n          \"04:49:39\",\n          \"09:26:12\"\n        ],\n        \"semantic_type\": \"\",\n        \"description\": \"\"\n      }\n    },\n    {\n      \"column\": \"crime_type\",\n      \"properties\": {\n        \"dtype\": \"string\",\n        \"num_unique_values\": 5,\n        \"samples\": [\n          \"Assault\",\n          \"Fraud\",\n          \"Burglary\"\n        ],\n        \"semantic_type\": \"\",\n        \"description\": \"\"\n      }\n    },\n    {\n      \"column\": \"city\",\n      \"properties\": {\n        \"dtype\": \"string\",\n        \"num_unique_values\": 3,\n        \"samples\": [\n          \"Philadelphia\",\n          \"Phoenix\",\n          \"San Antonio\"\n        ],\n        \"semantic_type\": \"\",\n        \"description\": \"\"\n      }\n    },\n    {\n      \"column\": \"state\",\n      \"properties\": {\n        \"dtype\": \"string\",\n        \"num_unique_values\": 3,\n        \"samples\": [\n          \"PA\",\n          \"AZ\",\n          \"TX\"\n        ],\n        \"semantic_type\": \"\",\n        \"description\": \"\"\n      }\n    },\n    {\n      \"column\": \"location_description\",\n      \"properties\": {\n        \"dtype\": \"string\",\n        \"num_unique_values\": 5,\n        \"samples\": [\n          \"6853 Oak St\",\n          \"3239 Broadway\",\n          \"3760 Maple Ave\"\n        ],\n        \"semantic_type\": \"\",\n        \"description\": \"\"\n      }\n    },\n    {\n      \"column\": \"victim_age\",\n      \"properties\": {\n        \"dtype\": \"number\",\n        \"std\": 9,\n        \"min\": 13,\n        \"max\": 36,\n        \"num_unique_values\": 5,\n        \"samples\": [\n          13,\n          26,\n          23\n        ],\n        \"semantic_type\": \"\",\n        \"description\": \"\"\n      }\n    },\n    {\n      \"column\": \"victim_gender\",\n      \"properties\": {\n        \"dtype\": \"string\",\n        \"num_unique_values\": 3,\n        \"samples\": [\n          \"Male\",\n          \"Female\",\n          \"Other\"\n        ],\n        \"semantic_type\": \"\",\n        \"description\": \"\"\n      }\n    },\n    {\n      \"column\": \"victim_race\",\n      \"properties\": {\n        \"dtype\": \"string\",\n        \"num_unique_values\": 3,\n        \"samples\": [\n          \"Other\",\n          \"Black\",\n          \"Asian\"\n        ],\n        \"semantic_type\": \"\",\n        \"description\": \"\"\n      }\n    },\n    {\n      \"column\": \"date_dt\",\n      \"properties\": {\n        \"dtype\": \"date\",\n        \"min\": \"2022-07-10\",\n        \"max\": \"2024-12-31\",\n        \"num_unique_values\": 5,\n        \"samples\": [\n          \"2022-07-10\",\n          \"2023-07-19\",\n          \"2024-12-31\"\n        ],\n        \"semantic_type\": \"\",\n        \"description\": \"\"\n      }\n    },\n    {\n      \"column\": \"day_of_week\",\n      \"properties\": {\n        \"dtype\": \"string\",\n        \"num_unique_values\": 4,\n        \"samples\": [\n          \"Sunday\",\n          \"Wednesday\",\n          \"Friday\"\n        ],\n        \"semantic_type\": \"\",\n        \"description\": \"\"\n      }\n    },\n    {\n      \"column\": \"month\",\n      \"properties\": {\n        \"dtype\": \"string\",\n        \"num_unique_values\": 4,\n        \"samples\": [\n          \"July\",\n          \"April\",\n          \"September\"\n        ],\n        \"semantic_type\": \"\",\n        \"description\": \"\"\n      }\n    },\n    {\n      \"column\": \"year\",\n      \"properties\": {\n        \"dtype\": \"int32\",\n        \"num_unique_values\": 3,\n        \"samples\": [\n          2022,\n          2024,\n          2023\n        ],\n        \"semantic_type\": \"\",\n        \"description\": \"\"\n      }\n    }\n  ]\n}"
            }
          },
          "metadata": {}
        }
      ]
    },
    {
      "cell_type": "code",
      "metadata": {
        "colab": {
          "base_uri": "https://localhost:8080/"
        },
        "id": "b1d7f351",
        "outputId": "ed0c1bc3-6f7c-4843-e34b-dbdda0af4193"
      },
      "source": [
        "\n",
        "print(f\"CREATE PREDICTIVE MODEL TO IDENTIFY CRIME TYPE BASED ON VICTIM AGE AND CITY\")\n",
        "\n",
        "from sklearn.model_selection import train_test_split\n",
        "\n",
        "df_model = df[['crime_type', 'city', 'victim_age']]\n",
        "df_model = pd.get_dummies(df_model, columns=['city'], drop_first=True)\n",
        "\n",
        "X = df_model.drop('crime_type', axis=1)\n",
        "y = df_model['crime_type']\n",
        "\n",
        "X_train, X_test, y_train, y_test = train_test_split(X, y, test_size=0.2, random_state=42)\n",
        "\n",
        "print(\"X_train shape:\", X_train.shape)\n",
        "print(\"X_test shape:\", X_test.shape)\n",
        "print(\"y_train shape:\", y_train.shape)\n",
        "print(\"y_test shape:\", y_test.shape)"
      ],
      "execution_count": 46,
      "outputs": [
        {
          "output_type": "stream",
          "name": "stdout",
          "text": [
            "CREATE PREDICTIVE MODEL TO IDENTIFY CRIME TYPE BASED ON VICTIM AGE AND CITY\n",
            "X_train shape: (800, 10)\n",
            "X_test shape: (200, 10)\n",
            "y_train shape: (800,)\n",
            "y_test shape: (200,)\n"
          ]
        }
      ]
    },
    {
      "cell_type": "code",
      "metadata": {
        "colab": {
          "base_uri": "https://localhost:8080/"
        },
        "id": "eb58350f",
        "outputId": "87ac7a39-b7b3-452e-acae-2948e83aba74"
      },
      "source": [
        "from sklearn.linear_model import LogisticRegression\n",
        "from sklearn.preprocessing import StandardScaler\n",
        "\n",
        "scaler = StandardScaler()\n",
        "X_train_scaled = scaler.fit_transform(X_train)\n",
        "X_test_scaled = scaler.transform(X_test)\n",
        "\n",
        "model = LogisticRegression(random_state=42, max_iter=1000)\n",
        "model.fit(X_train_scaled, y_train)\n",
        "\n",
        "print(\"Logistic Regression model trained successfully.\")"
      ],
      "execution_count": 33,
      "outputs": [
        {
          "output_type": "stream",
          "name": "stdout",
          "text": [
            "Logistic Regression model trained successfully.\n"
          ]
        }
      ]
    },
    {
      "cell_type": "code",
      "metadata": {
        "colab": {
          "base_uri": "https://localhost:8080/",
          "height": 1000
        },
        "id": "090f5e91",
        "outputId": "367ff7de-dfac-4232-df6f-5d74da1df377"
      },
      "source": [
        "from sklearn.metrics import classification_report, confusion_matrix\n",
        "\n",
        "y_pred = model.predict(X_test_scaled)\n",
        "\n",
        "print(\"Classification Report:\")\n",
        "print(classification_report(y_test, y_pred))\n",
        "\n",
        "print(\"Confusion Matrix:\")\n",
        "conf_mat = confusion_matrix(y_test, y_pred)\n",
        "plt.figure(figsize=(10, 8))\n",
        "sns.heatmap(conf_mat, annot=True, fmt='d', xticklabels=model.classes_, yticklabels=model.classes_)\n",
        "plt.xlabel('Predicted')\n",
        "plt.ylabel('Actual')\n",
        "plt.title('Confusion Matrix')\n",
        "plt.show()"
      ],
      "execution_count": 37,
      "outputs": [
        {
          "output_type": "stream",
          "name": "stdout",
          "text": [
            "Classification Report:\n",
            "                   precision    recall  f1-score   support\n",
            "\n",
            "            Arson       0.00      0.00      0.00        22\n",
            "          Assault       0.00      0.00      0.00        21\n",
            "         Burglary       0.12      0.26      0.16        23\n",
            "Domestic Violence       0.13      0.32      0.19        22\n",
            "     Drug Offense       0.15      0.11      0.13        18\n",
            "            Fraud       0.00      0.00      0.00        16\n",
            "         Homicide       0.11      0.21      0.14        19\n",
            "          Robbery       0.08      0.10      0.09        21\n",
            "            Theft       0.00      0.00      0.00        19\n",
            "        Vandalism       0.00      0.00      0.00        19\n",
            "\n",
            "         accuracy                           0.10       200\n",
            "        macro avg       0.06      0.10      0.07       200\n",
            "     weighted avg       0.06      0.10      0.07       200\n",
            "\n",
            "Confusion Matrix:\n"
          ]
        },
        {
          "output_type": "stream",
          "name": "stderr",
          "text": [
            "/usr/local/lib/python3.11/dist-packages/sklearn/metrics/_classification.py:1565: UndefinedMetricWarning: Precision is ill-defined and being set to 0.0 in labels with no predicted samples. Use `zero_division` parameter to control this behavior.\n",
            "  _warn_prf(average, modifier, f\"{metric.capitalize()} is\", len(result))\n",
            "/usr/local/lib/python3.11/dist-packages/sklearn/metrics/_classification.py:1565: UndefinedMetricWarning: Precision is ill-defined and being set to 0.0 in labels with no predicted samples. Use `zero_division` parameter to control this behavior.\n",
            "  _warn_prf(average, modifier, f\"{metric.capitalize()} is\", len(result))\n",
            "/usr/local/lib/python3.11/dist-packages/sklearn/metrics/_classification.py:1565: UndefinedMetricWarning: Precision is ill-defined and being set to 0.0 in labels with no predicted samples. Use `zero_division` parameter to control this behavior.\n",
            "  _warn_prf(average, modifier, f\"{metric.capitalize()} is\", len(result))\n"
          ]
        },
        {
          "output_type": "display_data",
          "data": {
            "text/plain": [
              "<Figure size 1000x800 with 2 Axes>"
            ],
            "image/png": "[encoded data removed]"
          },
          "metadata": {}
        }
      ]
    },
    {
      "cell_type": "code",
      "source": [
        "from sklearn.ensemble import RandomForestClassifier\n",
        "rf_clf = RandomForestClassifier(random_state=42)\n",
        "rf_clf.fit(X_train_scaled, y_train)\n",
        "\n",
        "print(\"Random Forest Classifier trained successfully!\")"
      ],
      "metadata": {
        "colab": {
          "base_uri": "https://localhost:8080/"
        },
        "id": "EUv5aJJsFuqi",
        "outputId": "572d7e77-09d0-4896-f17e-11056efbb384"
      },
      "execution_count": 40,
      "outputs": [
        {
          "output_type": "stream",
          "name": "stdout",
          "text": [
            "Random Forest Classifier trained successfully!\n"
          ]
        }
      ]
    },
    {
      "cell_type": "code",
      "source": [
        "\n",
        "from sklearn.metrics import classification_report, confusion_matrix\n",
        "y_pred_rf = rf_clf.predict(X_test_scaled)\n",
        "print(\"Random Forest Classification Report:\")\n",
        "print(classification_report(y_test, y_pred_rf))\n",
        "print(\"\\nRandom Forest Confusion Matrix:\")\n",
        "print(confusion_matrix(y_test, y_pred_rf))"
      ],
      "metadata": {
        "colab": {
          "base_uri": "https://localhost:8080/"
        },
        "id": "HlWDegLPGBNz",
        "outputId": "5e13123b-54a5-448d-8643-accf4f3fa0bb"
      },
      "execution_count": 44,
      "outputs": [
        {
          "output_type": "stream",
          "name": "stdout",
          "text": [
            "Random Forest Classification Report:\n",
            "                   precision    recall  f1-score   support\n",
            "\n",
            "            Arson       0.12      0.14      0.13        22\n",
            "          Assault       0.00      0.00      0.00        21\n",
            "         Burglary       0.12      0.13      0.12        23\n",
            "Domestic Violence       0.12      0.09      0.10        22\n",
            "     Drug Offense       0.09      0.11      0.10        18\n",
            "            Fraud       0.13      0.12      0.13        16\n",
            "         Homicide       0.10      0.16      0.12        19\n",
            "          Robbery       0.04      0.05      0.04        21\n",
            "            Theft       0.27      0.21      0.24        19\n",
            "        Vandalism       0.07      0.05      0.06        19\n",
            "\n",
            "         accuracy                           0.10       200\n",
            "        macro avg       0.11      0.11      0.10       200\n",
            "     weighted avg       0.10      0.10      0.10       200\n",
            "\n",
            "\n",
            "Random Forest Confusion Matrix:\n",
            "[[3 2 6 0 0 1 1 5 3 1]\n",
            " [6 0 0 1 3 3 3 4 1 0]\n",
            " [1 3 3 4 3 1 5 0 2 1]\n",
            " [3 0 5 2 1 3 4 2 0 2]\n",
            " [0 0 2 2 2 0 3 4 2 3]\n",
            " [2 1 3 1 1 2 2 1 1 2]\n",
            " [0 2 1 2 4 2 3 4 0 1]\n",
            " [7 1 3 1 3 0 4 1 0 1]\n",
            " [2 1 1 2 2 1 2 1 4 3]\n",
            " [1 1 1 2 4 2 3 2 2 1]]\n"
          ]
        }
      ]
    },
    {
      "cell_type": "code",
      "source": [
        "print(f\"CREATE PREDICITIVE MODEL TO IDENTIFY CITY BASED ON CRIME TYPE , AGE , GENDER , RACE\")"
      ],
      "metadata": {
        "colab": {
          "base_uri": "https://localhost:8080/"
        },
        "id": "dNr11RilGB7L",
        "outputId": "0eae0582-9901-4c70-ed59-510091dae691"
      },
      "execution_count": 47,
      "outputs": [
        {
          "output_type": "stream",
          "name": "stdout",
          "text": [
            "CREATE PREDICITIVE MODEL TO IDENTIFY CITY BASED ON CRIME TYPE , AGE , GENDER , RACE\n"
          ]
        }
      ]
    },
    {
      "cell_type": "code",
      "source": [
        "contingency_table = pd.crosstab(df['crime_type'], df['city'])\n",
        "print(contingency_table)\n",
        "\n",
        "from sklearn.model_selection import train_test_split\n",
        "df_model = df[['crime_type', 'city', 'victim_age', 'victim_gender' , 'victim_race']]\n",
        "df_model = pd.get_dummies(df_model, columns=['crime_type', 'victim_gender', 'victim_race'], drop_first=True)\n",
        "\n",
        "X = df_model.drop('city', axis=1)\n",
        "y = df_model['city']\n",
        "\n",
        "X_train, X_test, y_train, y_test = train_test_split(X, y, test_size=0.2, random_state=42)\n",
        "print(\"X_train shape:\", X_train.shape)\n",
        "print(\"X_test shape:\", X_test.shape)\n",
        "print(\"y_train shape:\", y_train.shape)\n",
        "print(\"y_test shape:\", y_test.shape)"
      ],
      "metadata": {
        "colab": {
          "base_uri": "https://localhost:8080/"
        },
        "id": "1pFb-svVHfXF",
        "outputId": "16212265-5686-431c-ec97-58452f2b2928"
      },
      "execution_count": 58,
      "outputs": [
        {
          "output_type": "stream",
          "name": "stdout",
          "text": [
            "city               Chicago  Dallas  Houston  Los Angeles  New York  \\\n",
            "crime_type                                                           \n",
            "Arson                    4      11       11           11        13   \n",
            "Assault                  9       6       12           16         9   \n",
            "Burglary                14      19       13            9        13   \n",
            "Domestic Violence       13       7       11           17        10   \n",
            "Drug Offense             9      14        7            5         5   \n",
            "Fraud                   13       8        9            6         8   \n",
            "Homicide                 9      11       13           11        13   \n",
            "Robbery                 10       8       14            9        11   \n",
            "Theft                    9      12       10            7        10   \n",
            "Vandalism               11      10        6           11        13   \n",
            "\n",
            "city               Philadelphia  Phoenix  San Antonio  San Diego  San Jose  \n",
            "crime_type                                                                  \n",
            "Arson                        10       11            9          8        10  \n",
            "Assault                       7        6            8         11        13  \n",
            "Burglary                     12       13            5         10        13  \n",
            "Domestic Violence             8       11           15         17        12  \n",
            "Drug Offense                 14        6           10         10         9  \n",
            "Fraud                        13        9           12          6         5  \n",
            "Homicide                     11       10            4          5        14  \n",
            "Robbery                       5       13           12          8        11  \n",
            "Theft                        10        8           12          6         5  \n",
            "Vandalism                     9       11            8         10         5  \n",
            "X_train shape: (800, 17)\n",
            "X_test shape: (200, 17)\n",
            "y_train shape: (800,)\n",
            "y_test shape: (200,)\n"
          ]
        }
      ]
    },
    {
      "cell_type": "code",
      "source": [
        "from sklearn.linear_model import LogisticRegression\n",
        "from sklearn.preprocessing import StandardScaler\n",
        "scaler = StandardScaler()\n",
        "X_train_scaled = scaler.fit_transform(X_train)\n",
        "X_test_scaled = scaler.transform(X_test)\n",
        "\n",
        "model = LogisticRegression(random_state=42, max_iter=1000)\n",
        "model.fit(X_train_scaled, y_train)\n",
        "\n",
        "print(\"Logistic Regression model trained successfully.\")"
      ],
      "metadata": {
        "colab": {
          "base_uri": "https://localhost:8080/"
        },
        "id": "vbMr1uZCMtL1",
        "outputId": "781d0e2c-fb79-4850-93e0-e9213581df20"
      },
      "execution_count": 61,
      "outputs": [
        {
          "output_type": "stream",
          "name": "stdout",
          "text": [
            "Logistic Regression model trained successfully.\n"
          ]
        }
      ]
    },
    {
      "cell_type": "code",
      "source": [
        "from sklearn.metrics import classification_report, confusion_matrix\n",
        "\n",
        "y_pred = model.predict(X_test_scaled)\n",
        "\n",
        "print(\"Classification Report:\")\n",
        "print(classification_report(y_test, y_pred))\n",
        "\n",
        "print(\"Confusion Matrix:\")\n",
        "conf_mat = confusion_matrix(y_test, y_pred)\n",
        "plt.figure(figsize=(10, 8))\n",
        "sns.heatmap(conf_mat, annot=True, fmt='d', xticklabels=model.classes_, yticklabels=model.classes_)\n",
        "plt.xlabel('Predicted')\n",
        "plt.ylabel('Actual')\n",
        "plt.title('Confusion Matrix')\n",
        "plt.show()"
      ],
      "metadata": {
        "colab": {
          "base_uri": "https://localhost:8080/",
          "height": 1000
        },
        "id": "jRLba5f_N7YY",
        "outputId": "f94121f8-4dac-4084-9c81-1e4dd35dd144"
      },
      "execution_count": 63,
      "outputs": [
        {
          "output_type": "stream",
          "name": "stdout",
          "text": [
            "Classification Report:\n",
            "              precision    recall  f1-score   support\n",
            "\n",
            "     Chicago       0.05      0.05      0.05        19\n",
            "      Dallas       0.15      0.19      0.17        27\n",
            "     Houston       0.06      0.05      0.06        19\n",
            " Los Angeles       0.11      0.20      0.14        20\n",
            "    New York       0.00      0.00      0.00        21\n",
            "Philadelphia       0.12      0.13      0.13        15\n",
            "     Phoenix       0.04      0.06      0.05        18\n",
            " San Antonio       0.04      0.05      0.04        21\n",
            "   San Diego       0.20      0.15      0.17        20\n",
            "    San Jose       0.00      0.00      0.00        20\n",
            "\n",
            "    accuracy                           0.09       200\n",
            "   macro avg       0.08      0.09      0.08       200\n",
            "weighted avg       0.08      0.09      0.08       200\n",
            "\n",
            "Confusion Matrix:\n"
          ]
        },
        {
          "output_type": "display_data",
          "data": {
            "text/plain": [
              "<Figure size 1000x800 with 2 Axes>"
            ],
            "image/png": "[encoded data removed]"
          },
          "metadata": {}
        }
      ]
    },
    {
      "cell_type": "code",
      "source": [
        "from sklearn.ensemble import RandomForestClassifier\n",
        "rf_clf = RandomForestClassifier(random_state=42)\n",
        "rf_clf.fit(X_train_scaled, y_train)\n",
        "\n",
        "print(\"Random Forest Classifier trained successfully!\")"
      ],
      "metadata": {
        "colab": {
          "base_uri": "https://localhost:8080/"
        },
        "id": "Mk-YtWxIRoeG",
        "outputId": "9dbe605a-09d5-40d0-a92f-ef2196f824bd"
      },
      "execution_count": 65,
      "outputs": [
        {
          "output_type": "stream",
          "name": "stdout",
          "text": [
            "Random Forest Classifier trained successfully!\n"
          ]
        }
      ]
    },
    {
      "cell_type": "code",
      "source": [
        "from sklearn.metrics import classification_report, confusion_matrix\n",
        "y_pred_rf = rf_clf.predict(X_test_scaled)\n",
        "print(\"Random Forest Classification Report:\")\n",
        "print(classification_report(y_test, y_pred_rf))\n",
        "print(\"\\nRandom Forest Confusion Matrix:\")\n",
        "print(confusion_matrix(y_test, y_pred_rf))"
      ],
      "metadata": {
        "colab": {
          "base_uri": "https://localhost:8080/"
        },
        "id": "iDVXdGFYRtIr",
        "outputId": "fdb593c2-9c81-4306-8ebb-ad3cf6593eb9"
      },
      "execution_count": 67,
      "outputs": [
        {
          "output_type": "stream",
          "name": "stdout",
          "text": [
            "Random Forest Classification Report:\n",
            "              precision    recall  f1-score   support\n",
            "\n",
            "     Chicago       0.11      0.11      0.11        19\n",
            "      Dallas       0.06      0.04      0.04        27\n",
            "     Houston       0.14      0.16      0.15        19\n",
            " Los Angeles       0.15      0.15      0.15        20\n",
            "    New York       0.11      0.14      0.12        21\n",
            "Philadelphia       0.13      0.20      0.16        15\n",
            "     Phoenix       0.00      0.00      0.00        18\n",
            " San Antonio       0.11      0.10      0.10        21\n",
            "   San Diego       0.21      0.15      0.18        20\n",
            "    San Jose       0.12      0.15      0.14        20\n",
            "\n",
            "    accuracy                           0.12       200\n",
            "   macro avg       0.11      0.12      0.11       200\n",
            "weighted avg       0.11      0.12      0.11       200\n",
            "\n",
            "\n",
            "Random Forest Confusion Matrix:\n",
            "[[2 4 2 4 1 0 0 3 1 2]\n",
            " [1 1 2 0 7 5 3 2 2 4]\n",
            " [2 1 3 1 5 2 2 2 0 1]\n",
            " [1 1 5 3 3 0 2 2 1 2]\n",
            " [2 0 1 4 3 1 3 2 1 4]\n",
            " [0 3 2 1 0 3 0 0 3 3]\n",
            " [4 1 3 2 1 2 0 2 0 3]\n",
            " [2 3 2 0 5 3 1 2 2 1]\n",
            " [2 4 1 2 2 2 1 2 3 1]\n",
            " [2 0 1 3 0 5 4 1 1 3]]\n"
          ]
        }
      ]
    },
    {
      "cell_type": "code",
      "source": [
        "print(f\"Predictive Model to Identify State based on gender, victim_age, month, and day_of_week\")\n",
        "contingency_table = pd.crosstab(df['state'], df['victim_gender'])\n",
        "print(contingency_table)\n"
      ],
      "metadata": {
        "colab": {
          "base_uri": "https://localhost:8080/"
        },
        "id": "niadGFzeVqfG",
        "outputId": "1e164d7c-3c02-486a-9965-42eda49d9916"
      },
      "execution_count": 72,
      "outputs": [
        {
          "output_type": "stream",
          "name": "stdout",
          "text": [
            "Predictive Model to Identify State based on gender, victim_age, month, and day_of_week\n",
            "victim_gender  Female  Male  Non-binary  Other\n",
            "state                                         \n",
            "AZ                 34    24          17     23\n",
            "CA                 70    76          68     76\n",
            "IL                 23    29          23     26\n",
            "NY                 35    30          22     18\n",
            "PA                 29    24          21     25\n",
            "TX                 68    89          81     69\n"
          ]
        }
      ]
    },
    {
      "cell_type": "code",
      "source": [
        "from sklearn.model_selection import train_test_split\n",
        "df_model = df[['state', 'victim_gender', 'month', 'day_of_week']]\n",
        "df_model = pd.get_dummies(df_model, columns=[ 'victim_gender'], drop_first=True)\n",
        "\n",
        "X = df_model.drop('state', axis=1)\n",
        "y = df_model['state']\n",
        "X_train, X_test, y_train, y_test = train_test_split(X, y, test_size=0.2, random_state=42)\n",
        "print(\"X_train shape:\", X_train.shape)\n",
        "print(\"X_test shape:\", X_test.shape)\n",
        "print(\"y_train shape:\", y_train.shape)\n",
        "print(\"y_test shape:\", y_test.shape)"
      ],
      "metadata": {
        "colab": {
          "base_uri": "https://localhost:8080/"
        },
        "id": "66pnsqQcZIHx",
        "outputId": "56b79240-e452-4408-9f0c-18798261aa89"
      },
      "execution_count": 76,
      "outputs": [
        {
          "output_type": "stream",
          "name": "stdout",
          "text": [
            "X_train shape: (800, 5)\n",
            "X_test shape: (200, 5)\n",
            "y_train shape: (800,)\n",
            "y_test shape: (200,)\n"
          ]
        }
      ]
    },
    {
      "cell_type": "code",
      "metadata": {
        "colab": {
          "base_uri": "https://localhost:8080/",
          "height": 996
        },
        "id": "38e062f3",
        "outputId": "757e21de-ada6-42a8-a125-543ad35a9b31"
      },
      "source": [
        "from sklearn.ensemble import RandomForestClassifier\n",
        "from sklearn.metrics import classification_report, confusion_matrix\n",
        "\n",
        "rf_clf = RandomForestClassifier(random_state=42)\n",
        "rf_clf.fit(X_train_scaled, y_train)\n",
        "\n",
        "y_pred_rf = rf_clf.predict(X_test_scaled)\n",
        "\n",
        "print(\"Random Forest Classification Report:\")\n",
        "print(classification_report(y_test, y_pred_rf))\n",
        "\n",
        "print(\"\\nRandom Forest Confusion Matrix:\")\n",
        "conf_mat_rf = confusion_matrix(y_test, y_pred_rf)\n",
        "plt.figure(figsize=(10, 8))\n",
        "sns.heatmap(conf_mat_rf, annot=True, fmt='d', xticklabels=rf_clf.classes_, yticklabels=rf_clf.classes_)\n",
        "plt.xlabel('Predicted')\n",
        "plt.ylabel('Actual')\n",
        "plt.title('Random Forest Confusion Matrix')\n",
        "plt.show()"
      ],
      "execution_count": 78,
      "outputs": [
        {
          "output_type": "stream",
          "name": "stdout",
          "text": [
            "Random Forest Classification Report:\n",
            "              precision    recall  f1-score   support\n",
            "\n",
            "          AZ       0.00      0.00      0.00        18\n",
            "          CA       0.29      0.33      0.31        60\n",
            "          IL       0.00      0.00      0.00        19\n",
            "          NY       0.09      0.10      0.09        21\n",
            "          PA       0.16      0.20      0.18        15\n",
            "          TX       0.34      0.31      0.33        67\n",
            "\n",
            "    accuracy                           0.23       200\n",
            "   macro avg       0.14      0.16      0.15       200\n",
            "weighted avg       0.22      0.23      0.22       200\n",
            "\n",
            "\n",
            "Random Forest Confusion Matrix:\n"
          ]
        },
        {
          "output_type": "display_data",
          "data": {
            "text/plain": [
              "<Figure size 1000x800 with 2 Axes>"
            ],
            "image/png": "[encoded data removed]"
          },
          "metadata": {}
        }
      ]
    }
  ]
}